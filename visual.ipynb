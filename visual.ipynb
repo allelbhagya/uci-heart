{
 "cells": [
  {
   "cell_type": "code",
   "execution_count": 125,
   "metadata": {},
   "outputs": [],
   "source": [
    "import pandas as pd"
   ]
  },
  {
   "cell_type": "code",
   "execution_count": 126,
   "metadata": {},
   "outputs": [
    {
     "data": {
      "text/html": [
       "<div>\n",
       "<style scoped>\n",
       "    .dataframe tbody tr th:only-of-type {\n",
       "        vertical-align: middle;\n",
       "    }\n",
       "\n",
       "    .dataframe tbody tr th {\n",
       "        vertical-align: top;\n",
       "    }\n",
       "\n",
       "    .dataframe thead th {\n",
       "        text-align: right;\n",
       "    }\n",
       "</style>\n",
       "<table border=\"1\" class=\"dataframe\">\n",
       "  <thead>\n",
       "    <tr style=\"text-align: right;\">\n",
       "      <th></th>\n",
       "      <th>id</th>\n",
       "      <th>age</th>\n",
       "      <th>sex</th>\n",
       "      <th>dataset</th>\n",
       "      <th>cp</th>\n",
       "      <th>trestbps</th>\n",
       "      <th>chol</th>\n",
       "      <th>fbs</th>\n",
       "      <th>restecg</th>\n",
       "      <th>thalch</th>\n",
       "      <th>exang</th>\n",
       "      <th>oldpeak</th>\n",
       "      <th>slope</th>\n",
       "      <th>ca</th>\n",
       "      <th>thal</th>\n",
       "      <th>num</th>\n",
       "    </tr>\n",
       "  </thead>\n",
       "  <tbody>\n",
       "    <tr>\n",
       "      <th>0</th>\n",
       "      <td>1</td>\n",
       "      <td>63</td>\n",
       "      <td>Male</td>\n",
       "      <td>Cleveland</td>\n",
       "      <td>typical angina</td>\n",
       "      <td>145.0</td>\n",
       "      <td>233.0</td>\n",
       "      <td>True</td>\n",
       "      <td>lv hypertrophy</td>\n",
       "      <td>150.0</td>\n",
       "      <td>False</td>\n",
       "      <td>2.3</td>\n",
       "      <td>downsloping</td>\n",
       "      <td>0.0</td>\n",
       "      <td>fixed defect</td>\n",
       "      <td>0</td>\n",
       "    </tr>\n",
       "    <tr>\n",
       "      <th>1</th>\n",
       "      <td>2</td>\n",
       "      <td>67</td>\n",
       "      <td>Male</td>\n",
       "      <td>Cleveland</td>\n",
       "      <td>asymptomatic</td>\n",
       "      <td>160.0</td>\n",
       "      <td>286.0</td>\n",
       "      <td>False</td>\n",
       "      <td>lv hypertrophy</td>\n",
       "      <td>108.0</td>\n",
       "      <td>True</td>\n",
       "      <td>1.5</td>\n",
       "      <td>flat</td>\n",
       "      <td>3.0</td>\n",
       "      <td>normal</td>\n",
       "      <td>2</td>\n",
       "    </tr>\n",
       "    <tr>\n",
       "      <th>2</th>\n",
       "      <td>3</td>\n",
       "      <td>67</td>\n",
       "      <td>Male</td>\n",
       "      <td>Cleveland</td>\n",
       "      <td>asymptomatic</td>\n",
       "      <td>120.0</td>\n",
       "      <td>229.0</td>\n",
       "      <td>False</td>\n",
       "      <td>lv hypertrophy</td>\n",
       "      <td>129.0</td>\n",
       "      <td>True</td>\n",
       "      <td>2.6</td>\n",
       "      <td>flat</td>\n",
       "      <td>2.0</td>\n",
       "      <td>reversable defect</td>\n",
       "      <td>1</td>\n",
       "    </tr>\n",
       "    <tr>\n",
       "      <th>3</th>\n",
       "      <td>4</td>\n",
       "      <td>37</td>\n",
       "      <td>Male</td>\n",
       "      <td>Cleveland</td>\n",
       "      <td>non-anginal</td>\n",
       "      <td>130.0</td>\n",
       "      <td>250.0</td>\n",
       "      <td>False</td>\n",
       "      <td>normal</td>\n",
       "      <td>187.0</td>\n",
       "      <td>False</td>\n",
       "      <td>3.5</td>\n",
       "      <td>downsloping</td>\n",
       "      <td>0.0</td>\n",
       "      <td>normal</td>\n",
       "      <td>0</td>\n",
       "    </tr>\n",
       "    <tr>\n",
       "      <th>4</th>\n",
       "      <td>5</td>\n",
       "      <td>41</td>\n",
       "      <td>Female</td>\n",
       "      <td>Cleveland</td>\n",
       "      <td>atypical angina</td>\n",
       "      <td>130.0</td>\n",
       "      <td>204.0</td>\n",
       "      <td>False</td>\n",
       "      <td>lv hypertrophy</td>\n",
       "      <td>172.0</td>\n",
       "      <td>False</td>\n",
       "      <td>1.4</td>\n",
       "      <td>upsloping</td>\n",
       "      <td>0.0</td>\n",
       "      <td>normal</td>\n",
       "      <td>0</td>\n",
       "    </tr>\n",
       "  </tbody>\n",
       "</table>\n",
       "</div>"
      ],
      "text/plain": [
       "   id  age     sex    dataset               cp  trestbps   chol    fbs  \\\n",
       "0   1   63    Male  Cleveland   typical angina     145.0  233.0   True   \n",
       "1   2   67    Male  Cleveland     asymptomatic     160.0  286.0  False   \n",
       "2   3   67    Male  Cleveland     asymptomatic     120.0  229.0  False   \n",
       "3   4   37    Male  Cleveland      non-anginal     130.0  250.0  False   \n",
       "4   5   41  Female  Cleveland  atypical angina     130.0  204.0  False   \n",
       "\n",
       "          restecg  thalch  exang  oldpeak        slope   ca  \\\n",
       "0  lv hypertrophy   150.0  False      2.3  downsloping  0.0   \n",
       "1  lv hypertrophy   108.0   True      1.5         flat  3.0   \n",
       "2  lv hypertrophy   129.0   True      2.6         flat  2.0   \n",
       "3          normal   187.0  False      3.5  downsloping  0.0   \n",
       "4  lv hypertrophy   172.0  False      1.4    upsloping  0.0   \n",
       "\n",
       "                thal  num  \n",
       "0       fixed defect    0  \n",
       "1             normal    2  \n",
       "2  reversable defect    1  \n",
       "3             normal    0  \n",
       "4             normal    0  "
      ]
     },
     "execution_count": 126,
     "metadata": {},
     "output_type": "execute_result"
    }
   ],
   "source": [
    "data = pd.read_csv('./uci.csv')\n",
    "data.head()"
   ]
  },
  {
   "cell_type": "code",
   "execution_count": 127,
   "metadata": {},
   "outputs": [
    {
     "data": {
      "text/plain": [
       "id            0\n",
       "age           0\n",
       "sex           0\n",
       "dataset       0\n",
       "cp            0\n",
       "trestbps     59\n",
       "chol         30\n",
       "fbs          90\n",
       "restecg       2\n",
       "thalch       55\n",
       "exang        55\n",
       "oldpeak      62\n",
       "slope       309\n",
       "ca          611\n",
       "thal        486\n",
       "num           0\n",
       "dtype: int64"
      ]
     },
     "execution_count": 127,
     "metadata": {},
     "output_type": "execute_result"
    }
   ],
   "source": [
    "data.isna().sum()"
   ]
  },
  {
   "cell_type": "code",
   "execution_count": 128,
   "metadata": {},
   "outputs": [
    {
     "data": {
      "text/plain": [
       "id          0\n",
       "age         0\n",
       "sex         0\n",
       "dataset     0\n",
       "cp          0\n",
       "trestbps    0\n",
       "chol        0\n",
       "fbs         0\n",
       "restecg     0\n",
       "thalch      0\n",
       "exang       0\n",
       "oldpeak     0\n",
       "slope       0\n",
       "ca          0\n",
       "thal        0\n",
       "num         0\n",
       "dtype: int64"
      ]
     },
     "execution_count": 128,
     "metadata": {},
     "output_type": "execute_result"
    }
   ],
   "source": [
    "data = data.dropna()\n",
    "data.isna().sum()"
   ]
  },
  {
   "cell_type": "code",
   "execution_count": 129,
   "metadata": {},
   "outputs": [],
   "source": [
    "import seaborn as sns"
   ]
  },
  {
   "cell_type": "code",
   "execution_count": 130,
   "metadata": {},
   "outputs": [
    {
     "data": {
      "text/plain": [
       "<Axes: xlabel='age', ylabel='sex'>"
      ]
     },
     "execution_count": 130,
     "metadata": {},
     "output_type": "execute_result"
    },
    {
     "data": {
      "image/png": "[encoded data removed]",
      "text/plain": [
       "<Figure size 640x480 with 1 Axes>"
      ]
     },
     "metadata": {},
     "output_type": "display_data"
    }
   ],
   "source": [
    "sns.boxplot(data= data, x = 'age', y = 'sex', hue = 'num')"
   ]
  },
  {
   "cell_type": "code",
   "execution_count": 131,
   "metadata": {},
   "outputs": [
    {
     "data": {
      "text/plain": [
       "<Axes: xlabel='age', ylabel='Count'>"
      ]
     },
     "execution_count": 131,
     "metadata": {},
     "output_type": "execute_result"
    },
    {
     "data": {
      "image/png": "[encoded data removed]",
      "text/plain": [
       "<Figure size 640x480 with 1 Axes>"
      ]
     },
     "metadata": {},
     "output_type": "display_data"
    }
   ],
   "source": [
    "sns.histplot(data=data, x=\"age\", hue = 'num')"
   ]
  },
  {
   "cell_type": "code",
   "execution_count": 132,
   "metadata": {},
   "outputs": [
    {
     "data": {
      "text/plain": [
       "<Axes: xlabel='Count', ylabel='num'>"
      ]
     },
     "execution_count": 132,
     "metadata": {},
     "output_type": "execute_result"
    },
    {
     "data": {
      "image/png": "[encoded data removed]",
      "text/plain": [
       "<Figure size 640x480 with 1 Axes>"
      ]
     },
     "metadata": {},
     "output_type": "display_data"
    }
   ],
   "source": [
    "sns.histplot(data=data, y=\"num\", hue = 'num')"
   ]
  },
  {
   "cell_type": "code",
   "execution_count": 133,
   "metadata": {},
   "outputs": [
    {
     "data": {
      "text/plain": [
       "<seaborn.axisgrid.FacetGrid at 0x179813130>"
      ]
     },
     "execution_count": 133,
     "metadata": {},
     "output_type": "execute_result"
    },
    {
     "data": {
      "image/png": "[encoded data removed]",
      "text/plain": [
       "<Figure size 558.875x500 with 1 Axes>"
      ]
     },
     "metadata": {},
     "output_type": "display_data"
    }
   ],
   "source": [
    "sns.catplot(data=data, kind=\"swarm\", x=\"num\", y=\"age\", hue=\"num\")"
   ]
  },
  {
   "cell_type": "code",
   "execution_count": 134,
   "metadata": {},
   "outputs": [
    {
     "data": {
      "text/plain": [
       "id            int64\n",
       "age           int64\n",
       "sex          object\n",
       "dataset      object\n",
       "cp           object\n",
       "trestbps    float64\n",
       "chol        float64\n",
       "fbs          object\n",
       "restecg      object\n",
       "thalch      float64\n",
       "exang        object\n",
       "oldpeak     float64\n",
       "slope        object\n",
       "ca          float64\n",
       "thal         object\n",
       "num           int64\n",
       "dtype: object"
      ]
     },
     "execution_count": 134,
     "metadata": {},
     "output_type": "execute_result"
    }
   ],
   "source": [
    "data.dtypes"
   ]
  },
  {
   "cell_type": "code",
   "execution_count": 135,
   "metadata": {},
   "outputs": [
    {
     "name": "stderr",
     "output_type": "stream",
     "text": [
      "/Users/bhagya/Desktop/code/uci-heart/env/lib/python3.9/site-packages/sklearn/preprocessing/_label.py:110: DataConversionWarning: A column-vector y was passed when a 1d array was expected. Please change the shape of y to (n_samples, ), for example using ravel().\n",
      "  y = column_or_1d(y, warn=True)\n",
      "/Users/bhagya/Desktop/code/uci-heart/env/lib/python3.9/site-packages/sklearn/preprocessing/_label.py:110: DataConversionWarning: A column-vector y was passed when a 1d array was expected. Please change the shape of y to (n_samples, ), for example using ravel().\n",
      "  y = column_or_1d(y, warn=True)\n",
      "/Users/bhagya/Desktop/code/uci-heart/env/lib/python3.9/site-packages/sklearn/preprocessing/_label.py:110: DataConversionWarning: A column-vector y was passed when a 1d array was expected. Please change the shape of y to (n_samples, ), for example using ravel().\n",
      "  y = column_or_1d(y, warn=True)\n",
      "/Users/bhagya/Desktop/code/uci-heart/env/lib/python3.9/site-packages/sklearn/preprocessing/_label.py:110: DataConversionWarning: A column-vector y was passed when a 1d array was expected. Please change the shape of y to (n_samples, ), for example using ravel().\n",
      "  y = column_or_1d(y, warn=True)\n",
      "/Users/bhagya/Desktop/code/uci-heart/env/lib/python3.9/site-packages/sklearn/preprocessing/_label.py:110: DataConversionWarning: A column-vector y was passed when a 1d array was expected. Please change the shape of y to (n_samples, ), for example using ravel().\n",
      "  y = column_or_1d(y, warn=True)\n",
      "/Users/bhagya/Desktop/code/uci-heart/env/lib/python3.9/site-packages/sklearn/preprocessing/_label.py:110: DataConversionWarning: A column-vector y was passed when a 1d array was expected. Please change the shape of y to (n_samples, ), for example using ravel().\n",
      "  y = column_or_1d(y, warn=True)\n",
      "/Users/bhagya/Desktop/code/uci-heart/env/lib/python3.9/site-packages/sklearn/preprocessing/_label.py:110: DataConversionWarning: A column-vector y was passed when a 1d array was expected. Please change the shape of y to (n_samples, ), for example using ravel().\n",
      "  y = column_or_1d(y, warn=True)\n",
      "/Users/bhagya/Desktop/code/uci-heart/env/lib/python3.9/site-packages/sklearn/preprocessing/_label.py:110: DataConversionWarning: A column-vector y was passed when a 1d array was expected. Please change the shape of y to (n_samples, ), for example using ravel().\n",
      "  y = column_or_1d(y, warn=True)\n"
     ]
    },
    {
     "data": {
      "text/plain": [
       "id            int64\n",
       "age           int64\n",
       "sex           int64\n",
       "dataset       int64\n",
       "cp            int64\n",
       "trestbps    float64\n",
       "chol        float64\n",
       "fbs           int64\n",
       "restecg       int64\n",
       "thalch      float64\n",
       "exang         int64\n",
       "oldpeak     float64\n",
       "slope         int64\n",
       "ca          float64\n",
       "thal          int64\n",
       "num           int64\n",
       "dtype: object"
      ]
     },
     "execution_count": 135,
     "metadata": {},
     "output_type": "execute_result"
    }
   ],
   "source": [
    "cols = ['sex', 'dataset', 'cp', 'fbs','restecg','exang','slope','thal']\n",
    "from sklearn.preprocessing import LabelEncoder\n",
    "\n",
    "le = LabelEncoder()\n",
    "for col in cols:\n",
    "    data[col] = le.fit_transform(data[col].values.reshape(-1,1))\n",
    "data.dtypes"
   ]
  },
  {
   "cell_type": "code",
   "execution_count": 136,
   "metadata": {},
   "outputs": [
    {
     "data": {
      "text/html": [
       "<div>\n",
       "<style scoped>\n",
       "    .dataframe tbody tr th:only-of-type {\n",
       "        vertical-align: middle;\n",
       "    }\n",
       "\n",
       "    .dataframe tbody tr th {\n",
       "        vertical-align: top;\n",
       "    }\n",
       "\n",
       "    .dataframe thead th {\n",
       "        text-align: right;\n",
       "    }\n",
       "</style>\n",
       "<table border=\"1\" class=\"dataframe\">\n",
       "  <thead>\n",
       "    <tr style=\"text-align: right;\">\n",
       "      <th></th>\n",
       "      <th>id</th>\n",
       "      <th>age</th>\n",
       "      <th>sex</th>\n",
       "      <th>dataset</th>\n",
       "      <th>cp</th>\n",
       "      <th>trestbps</th>\n",
       "      <th>chol</th>\n",
       "      <th>fbs</th>\n",
       "      <th>restecg</th>\n",
       "      <th>thalch</th>\n",
       "      <th>exang</th>\n",
       "      <th>oldpeak</th>\n",
       "      <th>slope</th>\n",
       "      <th>ca</th>\n",
       "      <th>thal</th>\n",
       "      <th>num</th>\n",
       "    </tr>\n",
       "  </thead>\n",
       "  <tbody>\n",
       "    <tr>\n",
       "      <th>id</th>\n",
       "      <td>1.000000</td>\n",
       "      <td>0.001379</td>\n",
       "      <td>-0.056881</td>\n",
       "      <td>0.418747</td>\n",
       "      <td>-0.094403</td>\n",
       "      <td>-0.021051</td>\n",
       "      <td>-0.138639</td>\n",
       "      <td>-0.060584</td>\n",
       "      <td>0.192594</td>\n",
       "      <td>-0.159716</td>\n",
       "      <td>0.045102</td>\n",
       "      <td>-0.091294</td>\n",
       "      <td>0.007997</td>\n",
       "      <td>0.020103</td>\n",
       "      <td>-0.034021</td>\n",
       "      <td>0.031397</td>\n",
       "    </tr>\n",
       "    <tr>\n",
       "      <th>age</th>\n",
       "      <td>0.001379</td>\n",
       "      <td>1.000000</td>\n",
       "      <td>-0.093693</td>\n",
       "      <td>-0.013136</td>\n",
       "      <td>-0.060833</td>\n",
       "      <td>0.286149</td>\n",
       "      <td>0.199258</td>\n",
       "      <td>0.132752</td>\n",
       "      <td>-0.115722</td>\n",
       "      <td>-0.384176</td>\n",
       "      <td>0.092506</td>\n",
       "      <td>0.195929</td>\n",
       "      <td>-0.157545</td>\n",
       "      <td>0.362764</td>\n",
       "      <td>0.059228</td>\n",
       "      <td>0.221787</td>\n",
       "    </tr>\n",
       "    <tr>\n",
       "      <th>sex</th>\n",
       "      <td>-0.056881</td>\n",
       "      <td>-0.093693</td>\n",
       "      <td>1.000000</td>\n",
       "      <td>0.053518</td>\n",
       "      <td>-0.047326</td>\n",
       "      <td>-0.065209</td>\n",
       "      <td>-0.202500</td>\n",
       "      <td>0.036869</td>\n",
       "      <td>-0.062598</td>\n",
       "      <td>-0.067820</td>\n",
       "      <td>0.148956</td>\n",
       "      <td>0.108107</td>\n",
       "      <td>-0.036213</td>\n",
       "      <td>0.088292</td>\n",
       "      <td>0.217901</td>\n",
       "      <td>0.226636</td>\n",
       "    </tr>\n",
       "    <tr>\n",
       "      <th>dataset</th>\n",
       "      <td>0.418747</td>\n",
       "      <td>-0.013136</td>\n",
       "      <td>0.053518</td>\n",
       "      <td>1.000000</td>\n",
       "      <td>-0.071649</td>\n",
       "      <td>-0.007536</td>\n",
       "      <td>-0.155494</td>\n",
       "      <td>-0.031895</td>\n",
       "      <td>0.070336</td>\n",
       "      <td>-0.123605</td>\n",
       "      <td>0.110614</td>\n",
       "      <td>0.029597</td>\n",
       "      <td>-0.049865</td>\n",
       "      <td>-0.055901</td>\n",
       "      <td>0.089030</td>\n",
       "      <td>0.003390</td>\n",
       "    </tr>\n",
       "    <tr>\n",
       "      <th>cp</th>\n",
       "      <td>-0.094403</td>\n",
       "      <td>-0.060833</td>\n",
       "      <td>-0.047326</td>\n",
       "      <td>-0.071649</td>\n",
       "      <td>1.000000</td>\n",
       "      <td>0.038374</td>\n",
       "      <td>-0.060095</td>\n",
       "      <td>0.121552</td>\n",
       "      <td>0.036252</td>\n",
       "      <td>0.301240</td>\n",
       "      <td>-0.385983</td>\n",
       "      <td>-0.140811</td>\n",
       "      <td>0.104842</td>\n",
       "      <td>-0.217937</td>\n",
       "      <td>-0.166515</td>\n",
       "      <td>-0.411183</td>\n",
       "    </tr>\n",
       "    <tr>\n",
       "      <th>trestbps</th>\n",
       "      <td>-0.021051</td>\n",
       "      <td>0.286149</td>\n",
       "      <td>-0.065209</td>\n",
       "      <td>-0.007536</td>\n",
       "      <td>0.038374</td>\n",
       "      <td>1.000000</td>\n",
       "      <td>0.134240</td>\n",
       "      <td>0.179791</td>\n",
       "      <td>-0.120111</td>\n",
       "      <td>-0.053320</td>\n",
       "      <td>0.067843</td>\n",
       "      <td>0.191144</td>\n",
       "      <td>-0.121500</td>\n",
       "      <td>0.096641</td>\n",
       "      <td>0.061708</td>\n",
       "      <td>0.159272</td>\n",
       "    </tr>\n",
       "    <tr>\n",
       "      <th>chol</th>\n",
       "      <td>-0.138639</td>\n",
       "      <td>0.199258</td>\n",
       "      <td>-0.202500</td>\n",
       "      <td>-0.155494</td>\n",
       "      <td>-0.060095</td>\n",
       "      <td>0.134240</td>\n",
       "      <td>1.000000</td>\n",
       "      <td>0.016939</td>\n",
       "      <td>-0.152597</td>\n",
       "      <td>0.014894</td>\n",
       "      <td>0.042846</td>\n",
       "      <td>0.033964</td>\n",
       "      <td>0.015971</td>\n",
       "      <td>0.121907</td>\n",
       "      <td>0.066443</td>\n",
       "      <td>0.065081</td>\n",
       "    </tr>\n",
       "    <tr>\n",
       "      <th>fbs</th>\n",
       "      <td>-0.060584</td>\n",
       "      <td>0.132752</td>\n",
       "      <td>0.036869</td>\n",
       "      <td>-0.031895</td>\n",
       "      <td>0.121552</td>\n",
       "      <td>0.179791</td>\n",
       "      <td>0.016939</td>\n",
       "      <td>1.000000</td>\n",
       "      <td>-0.083047</td>\n",
       "      <td>-0.002929</td>\n",
       "      <td>-0.004809</td>\n",
       "      <td>0.007252</td>\n",
       "      <td>-0.045958</td>\n",
       "      <td>0.153718</td>\n",
       "      <td>-0.020172</td>\n",
       "      <td>0.048892</td>\n",
       "    </tr>\n",
       "    <tr>\n",
       "      <th>restecg</th>\n",
       "      <td>0.192594</td>\n",
       "      <td>-0.115722</td>\n",
       "      <td>-0.062598</td>\n",
       "      <td>0.070336</td>\n",
       "      <td>0.036252</td>\n",
       "      <td>-0.120111</td>\n",
       "      <td>-0.152597</td>\n",
       "      <td>-0.083047</td>\n",
       "      <td>1.000000</td>\n",
       "      <td>0.017245</td>\n",
       "      <td>-0.053871</td>\n",
       "      <td>-0.049834</td>\n",
       "      <td>0.083082</td>\n",
       "      <td>-0.112497</td>\n",
       "      <td>0.000182</td>\n",
       "      <td>-0.132639</td>\n",
       "    </tr>\n",
       "    <tr>\n",
       "      <th>thalch</th>\n",
       "      <td>-0.159716</td>\n",
       "      <td>-0.384176</td>\n",
       "      <td>-0.067820</td>\n",
       "      <td>-0.123605</td>\n",
       "      <td>0.301240</td>\n",
       "      <td>-0.053320</td>\n",
       "      <td>0.014894</td>\n",
       "      <td>-0.002929</td>\n",
       "      <td>0.017245</td>\n",
       "      <td>1.000000</td>\n",
       "      <td>-0.394229</td>\n",
       "      <td>-0.348089</td>\n",
       "      <td>0.391992</td>\n",
       "      <td>-0.256831</td>\n",
       "      <td>-0.124510</td>\n",
       "      <td>-0.416480</td>\n",
       "    </tr>\n",
       "    <tr>\n",
       "      <th>exang</th>\n",
       "      <td>0.045102</td>\n",
       "      <td>0.092506</td>\n",
       "      <td>0.148956</td>\n",
       "      <td>0.110614</td>\n",
       "      <td>-0.385983</td>\n",
       "      <td>0.067843</td>\n",
       "      <td>0.042846</td>\n",
       "      <td>-0.004809</td>\n",
       "      <td>-0.053871</td>\n",
       "      <td>-0.394229</td>\n",
       "      <td>1.000000</td>\n",
       "      <td>0.290835</td>\n",
       "      <td>-0.254650</td>\n",
       "      <td>0.140089</td>\n",
       "      <td>0.233616</td>\n",
       "      <td>0.389355</td>\n",
       "    </tr>\n",
       "    <tr>\n",
       "      <th>oldpeak</th>\n",
       "      <td>-0.091294</td>\n",
       "      <td>0.195929</td>\n",
       "      <td>0.108107</td>\n",
       "      <td>0.029597</td>\n",
       "      <td>-0.140811</td>\n",
       "      <td>0.191144</td>\n",
       "      <td>0.033964</td>\n",
       "      <td>0.007252</td>\n",
       "      <td>-0.049834</td>\n",
       "      <td>-0.348089</td>\n",
       "      <td>0.290835</td>\n",
       "      <td>1.000000</td>\n",
       "      <td>-0.579596</td>\n",
       "      <td>0.291958</td>\n",
       "      <td>0.214868</td>\n",
       "      <td>0.501325</td>\n",
       "    </tr>\n",
       "    <tr>\n",
       "      <th>slope</th>\n",
       "      <td>0.007997</td>\n",
       "      <td>-0.157545</td>\n",
       "      <td>-0.036213</td>\n",
       "      <td>-0.049865</td>\n",
       "      <td>0.104842</td>\n",
       "      <td>-0.121500</td>\n",
       "      <td>0.015971</td>\n",
       "      <td>-0.045958</td>\n",
       "      <td>0.083082</td>\n",
       "      <td>0.391992</td>\n",
       "      <td>-0.254650</td>\n",
       "      <td>-0.579596</td>\n",
       "      <td>1.000000</td>\n",
       "      <td>-0.106319</td>\n",
       "      <td>-0.102807</td>\n",
       "      <td>-0.374357</td>\n",
       "    </tr>\n",
       "    <tr>\n",
       "      <th>ca</th>\n",
       "      <td>0.020103</td>\n",
       "      <td>0.362764</td>\n",
       "      <td>0.088292</td>\n",
       "      <td>-0.055901</td>\n",
       "      <td>-0.217937</td>\n",
       "      <td>0.096641</td>\n",
       "      <td>0.121907</td>\n",
       "      <td>0.153718</td>\n",
       "      <td>-0.112497</td>\n",
       "      <td>-0.256831</td>\n",
       "      <td>0.140089</td>\n",
       "      <td>0.291958</td>\n",
       "      <td>-0.106319</td>\n",
       "      <td>1.000000</td>\n",
       "      <td>0.143314</td>\n",
       "      <td>0.520058</td>\n",
       "    </tr>\n",
       "    <tr>\n",
       "      <th>thal</th>\n",
       "      <td>-0.034021</td>\n",
       "      <td>0.059228</td>\n",
       "      <td>0.217901</td>\n",
       "      <td>0.089030</td>\n",
       "      <td>-0.166515</td>\n",
       "      <td>0.061708</td>\n",
       "      <td>0.066443</td>\n",
       "      <td>-0.020172</td>\n",
       "      <td>0.000182</td>\n",
       "      <td>-0.124510</td>\n",
       "      <td>0.233616</td>\n",
       "      <td>0.214868</td>\n",
       "      <td>-0.102807</td>\n",
       "      <td>0.143314</td>\n",
       "      <td>1.000000</td>\n",
       "      <td>0.350634</td>\n",
       "    </tr>\n",
       "    <tr>\n",
       "      <th>num</th>\n",
       "      <td>0.031397</td>\n",
       "      <td>0.221787</td>\n",
       "      <td>0.226636</td>\n",
       "      <td>0.003390</td>\n",
       "      <td>-0.411183</td>\n",
       "      <td>0.159272</td>\n",
       "      <td>0.065081</td>\n",
       "      <td>0.048892</td>\n",
       "      <td>-0.132639</td>\n",
       "      <td>-0.416480</td>\n",
       "      <td>0.389355</td>\n",
       "      <td>0.501325</td>\n",
       "      <td>-0.374357</td>\n",
       "      <td>0.520058</td>\n",
       "      <td>0.350634</td>\n",
       "      <td>1.000000</td>\n",
       "    </tr>\n",
       "  </tbody>\n",
       "</table>\n",
       "</div>"
      ],
      "text/plain": [
       "                id       age       sex   dataset        cp  trestbps  \\\n",
       "id        1.000000  0.001379 -0.056881  0.418747 -0.094403 -0.021051   \n",
       "age       0.001379  1.000000 -0.093693 -0.013136 -0.060833  0.286149   \n",
       "sex      -0.056881 -0.093693  1.000000  0.053518 -0.047326 -0.065209   \n",
       "dataset   0.418747 -0.013136  0.053518  1.000000 -0.071649 -0.007536   \n",
       "cp       -0.094403 -0.060833 -0.047326 -0.071649  1.000000  0.038374   \n",
       "trestbps -0.021051  0.286149 -0.065209 -0.007536  0.038374  1.000000   \n",
       "chol     -0.138639  0.199258 -0.202500 -0.155494 -0.060095  0.134240   \n",
       "fbs      -0.060584  0.132752  0.036869 -0.031895  0.121552  0.179791   \n",
       "restecg   0.192594 -0.115722 -0.062598  0.070336  0.036252 -0.120111   \n",
       "thalch   -0.159716 -0.384176 -0.067820 -0.123605  0.301240 -0.053320   \n",
       "exang     0.045102  0.092506  0.148956  0.110614 -0.385983  0.067843   \n",
       "oldpeak  -0.091294  0.195929  0.108107  0.029597 -0.140811  0.191144   \n",
       "slope     0.007997 -0.157545 -0.036213 -0.049865  0.104842 -0.121500   \n",
       "ca        0.020103  0.362764  0.088292 -0.055901 -0.217937  0.096641   \n",
       "thal     -0.034021  0.059228  0.217901  0.089030 -0.166515  0.061708   \n",
       "num       0.031397  0.221787  0.226636  0.003390 -0.411183  0.159272   \n",
       "\n",
       "              chol       fbs   restecg    thalch     exang   oldpeak  \\\n",
       "id       -0.138639 -0.060584  0.192594 -0.159716  0.045102 -0.091294   \n",
       "age       0.199258  0.132752 -0.115722 -0.384176  0.092506  0.195929   \n",
       "sex      -0.202500  0.036869 -0.062598 -0.067820  0.148956  0.108107   \n",
       "dataset  -0.155494 -0.031895  0.070336 -0.123605  0.110614  0.029597   \n",
       "cp       -0.060095  0.121552  0.036252  0.301240 -0.385983 -0.140811   \n",
       "trestbps  0.134240  0.179791 -0.120111 -0.053320  0.067843  0.191144   \n",
       "chol      1.000000  0.016939 -0.152597  0.014894  0.042846  0.033964   \n",
       "fbs       0.016939  1.000000 -0.083047 -0.002929 -0.004809  0.007252   \n",
       "restecg  -0.152597 -0.083047  1.000000  0.017245 -0.053871 -0.049834   \n",
       "thalch    0.014894 -0.002929  0.017245  1.000000 -0.394229 -0.348089   \n",
       "exang     0.042846 -0.004809 -0.053871 -0.394229  1.000000  0.290835   \n",
       "oldpeak   0.033964  0.007252 -0.049834 -0.348089  0.290835  1.000000   \n",
       "slope     0.015971 -0.045958  0.083082  0.391992 -0.254650 -0.579596   \n",
       "ca        0.121907  0.153718 -0.112497 -0.256831  0.140089  0.291958   \n",
       "thal      0.066443 -0.020172  0.000182 -0.124510  0.233616  0.214868   \n",
       "num       0.065081  0.048892 -0.132639 -0.416480  0.389355  0.501325   \n",
       "\n",
       "             slope        ca      thal       num  \n",
       "id        0.007997  0.020103 -0.034021  0.031397  \n",
       "age      -0.157545  0.362764  0.059228  0.221787  \n",
       "sex      -0.036213  0.088292  0.217901  0.226636  \n",
       "dataset  -0.049865 -0.055901  0.089030  0.003390  \n",
       "cp        0.104842 -0.217937 -0.166515 -0.411183  \n",
       "trestbps -0.121500  0.096641  0.061708  0.159272  \n",
       "chol      0.015971  0.121907  0.066443  0.065081  \n",
       "fbs      -0.045958  0.153718 -0.020172  0.048892  \n",
       "restecg   0.083082 -0.112497  0.000182 -0.132639  \n",
       "thalch    0.391992 -0.256831 -0.124510 -0.416480  \n",
       "exang    -0.254650  0.140089  0.233616  0.389355  \n",
       "oldpeak  -0.579596  0.291958  0.214868  0.501325  \n",
       "slope     1.000000 -0.106319 -0.102807 -0.374357  \n",
       "ca       -0.106319  1.000000  0.143314  0.520058  \n",
       "thal     -0.102807  0.143314  1.000000  0.350634  \n",
       "num      -0.374357  0.520058  0.350634  1.000000  "
      ]
     },
     "execution_count": 136,
     "metadata": {},
     "output_type": "execute_result"
    }
   ],
   "source": [
    "data.corr()"
   ]
  },
  {
   "cell_type": "code",
   "execution_count": 137,
   "metadata": {},
   "outputs": [],
   "source": [
    "X = data.drop(['num'], axis = 1)\n",
    "y = data['num']"
   ]
  },
  {
   "cell_type": "code",
   "execution_count": 138,
   "metadata": {},
   "outputs": [
    {
     "data": {
      "text/plain": [
       "((239, 15), (239,))"
      ]
     },
     "execution_count": 138,
     "metadata": {},
     "output_type": "execute_result"
    }
   ],
   "source": [
    "from sklearn.model_selection import train_test_split\n",
    "\n",
    "X_train, X_test, y_train, y_test = train_test_split(X,y, test_size=0.2, random_state=42)\n",
    "X_train.shape, y_train.shape"
   ]
  },
  {
   "cell_type": "code",
   "execution_count": 139,
   "metadata": {},
   "outputs": [],
   "source": [
    "from sklearn.tree import DecisionTreeClassifier\n",
    "\n",
    "dtc = DecisionTreeClassifier()\n",
    "dtc.fit(X_train, y_train)\n",
    "pred = dtc.predict(X_test)"
   ]
  },
  {
   "cell_type": "code",
   "execution_count": 140,
   "metadata": {},
   "outputs": [
    {
     "data": {
      "text/plain": [
       "0.6"
      ]
     },
     "execution_count": 140,
     "metadata": {},
     "output_type": "execute_result"
    }
   ],
   "source": [
    "from sklearn.metrics import accuracy_score\n",
    "\n",
    "accuracy_score(y_test, pred)"
   ]
  },
  {
   "cell_type": "code",
   "execution_count": 145,
   "metadata": {},
   "outputs": [
    {
     "data": {
      "text/plain": [
       "0.6166666666666667"
      ]
     },
     "execution_count": 145,
     "metadata": {},
     "output_type": "execute_result"
    }
   ],
   "source": [
    "from sklearn.ensemble import RandomForestClassifier\n",
    "\n",
    "rfc = RandomForestClassifier()\n",
    "rfc.fit(X_train, y_train)\n",
    "accuracy_score(y_test, rfc.predict(X_test))"
   ]
  }
 ],
 "metadata": {
  "kernelspec": {
   "display_name": "Python 3",
   "language": "python",
   "name": "python3"
  },
  "language_info": {
   "codemirror_mode": {
    "name": "ipython",
    "version": 3
   },
   "file_extension": ".py",
   "mimetype": "text/x-python",
   "name": "python",
   "nbconvert_exporter": "python",
   "pygments_lexer": "ipython3",
   "version": "3.9.6"
  }
 },
 "nbformat": 4,
 "nbformat_minor": 2
}
