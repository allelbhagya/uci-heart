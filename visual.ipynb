{
 "cells": [
  {
   "cell_type": "code",
   "execution_count": 369,
   "metadata": {},
   "outputs": [],
   "source": [
    "import pandas as pd"
   ]
  },
  {
   "cell_type": "code",
   "execution_count": 370,
   "metadata": {},
   "outputs": [
    {
     "data": {
      "text/html": [
       "<div>\n",
       "<style scoped>\n",
       "    .dataframe tbody tr th:only-of-type {\n",
       "        vertical-align: middle;\n",
       "    }\n",
       "\n",
       "    .dataframe tbody tr th {\n",
       "        vertical-align: top;\n",
       "    }\n",
       "\n",
       "    .dataframe thead th {\n",
       "        text-align: right;\n",
       "    }\n",
       "</style>\n",
       "<table border=\"1\" class=\"dataframe\">\n",
       "  <thead>\n",
       "    <tr style=\"text-align: right;\">\n",
       "      <th></th>\n",
       "      <th>id</th>\n",
       "      <th>age</th>\n",
       "      <th>sex</th>\n",
       "      <th>dataset</th>\n",
       "      <th>cp</th>\n",
       "      <th>trestbps</th>\n",
       "      <th>chol</th>\n",
       "      <th>fbs</th>\n",
       "      <th>restecg</th>\n",
       "      <th>thalch</th>\n",
       "      <th>exang</th>\n",
       "      <th>oldpeak</th>\n",
       "      <th>slope</th>\n",
       "      <th>ca</th>\n",
       "      <th>thal</th>\n",
       "      <th>num</th>\n",
       "    </tr>\n",
       "  </thead>\n",
       "  <tbody>\n",
       "    <tr>\n",
       "      <th>0</th>\n",
       "      <td>1</td>\n",
       "      <td>63</td>\n",
       "      <td>Male</td>\n",
       "      <td>Cleveland</td>\n",
       "      <td>typical angina</td>\n",
       "      <td>145.0</td>\n",
       "      <td>233.0</td>\n",
       "      <td>True</td>\n",
       "      <td>lv hypertrophy</td>\n",
       "      <td>150.0</td>\n",
       "      <td>False</td>\n",
       "      <td>2.3</td>\n",
       "      <td>downsloping</td>\n",
       "      <td>0.0</td>\n",
       "      <td>fixed defect</td>\n",
       "      <td>0</td>\n",
       "    </tr>\n",
       "    <tr>\n",
       "      <th>1</th>\n",
       "      <td>2</td>\n",
       "      <td>67</td>\n",
       "      <td>Male</td>\n",
       "      <td>Cleveland</td>\n",
       "      <td>asymptomatic</td>\n",
       "      <td>160.0</td>\n",
       "      <td>286.0</td>\n",
       "      <td>False</td>\n",
       "      <td>lv hypertrophy</td>\n",
       "      <td>108.0</td>\n",
       "      <td>True</td>\n",
       "      <td>1.5</td>\n",
       "      <td>flat</td>\n",
       "      <td>3.0</td>\n",
       "      <td>normal</td>\n",
       "      <td>2</td>\n",
       "    </tr>\n",
       "    <tr>\n",
       "      <th>2</th>\n",
       "      <td>3</td>\n",
       "      <td>67</td>\n",
       "      <td>Male</td>\n",
       "      <td>Cleveland</td>\n",
       "      <td>asymptomatic</td>\n",
       "      <td>120.0</td>\n",
       "      <td>229.0</td>\n",
       "      <td>False</td>\n",
       "      <td>lv hypertrophy</td>\n",
       "      <td>129.0</td>\n",
       "      <td>True</td>\n",
       "      <td>2.6</td>\n",
       "      <td>flat</td>\n",
       "      <td>2.0</td>\n",
       "      <td>reversable defect</td>\n",
       "      <td>1</td>\n",
       "    </tr>\n",
       "    <tr>\n",
       "      <th>3</th>\n",
       "      <td>4</td>\n",
       "      <td>37</td>\n",
       "      <td>Male</td>\n",
       "      <td>Cleveland</td>\n",
       "      <td>non-anginal</td>\n",
       "      <td>130.0</td>\n",
       "      <td>250.0</td>\n",
       "      <td>False</td>\n",
       "      <td>normal</td>\n",
       "      <td>187.0</td>\n",
       "      <td>False</td>\n",
       "      <td>3.5</td>\n",
       "      <td>downsloping</td>\n",
       "      <td>0.0</td>\n",
       "      <td>normal</td>\n",
       "      <td>0</td>\n",
       "    </tr>\n",
       "    <tr>\n",
       "      <th>4</th>\n",
       "      <td>5</td>\n",
       "      <td>41</td>\n",
       "      <td>Female</td>\n",
       "      <td>Cleveland</td>\n",
       "      <td>atypical angina</td>\n",
       "      <td>130.0</td>\n",
       "      <td>204.0</td>\n",
       "      <td>False</td>\n",
       "      <td>lv hypertrophy</td>\n",
       "      <td>172.0</td>\n",
       "      <td>False</td>\n",
       "      <td>1.4</td>\n",
       "      <td>upsloping</td>\n",
       "      <td>0.0</td>\n",
       "      <td>normal</td>\n",
       "      <td>0</td>\n",
       "    </tr>\n",
       "  </tbody>\n",
       "</table>\n",
       "</div>"
      ],
      "text/plain": [
       "   id  age     sex    dataset               cp  trestbps   chol    fbs  \\\n",
       "0   1   63    Male  Cleveland   typical angina     145.0  233.0   True   \n",
       "1   2   67    Male  Cleveland     asymptomatic     160.0  286.0  False   \n",
       "2   3   67    Male  Cleveland     asymptomatic     120.0  229.0  False   \n",
       "3   4   37    Male  Cleveland      non-anginal     130.0  250.0  False   \n",
       "4   5   41  Female  Cleveland  atypical angina     130.0  204.0  False   \n",
       "\n",
       "          restecg  thalch  exang  oldpeak        slope   ca  \\\n",
       "0  lv hypertrophy   150.0  False      2.3  downsloping  0.0   \n",
       "1  lv hypertrophy   108.0   True      1.5         flat  3.0   \n",
       "2  lv hypertrophy   129.0   True      2.6         flat  2.0   \n",
       "3          normal   187.0  False      3.5  downsloping  0.0   \n",
       "4  lv hypertrophy   172.0  False      1.4    upsloping  0.0   \n",
       "\n",
       "                thal  num  \n",
       "0       fixed defect    0  \n",
       "1             normal    2  \n",
       "2  reversable defect    1  \n",
       "3             normal    0  \n",
       "4             normal    0  "
      ]
     },
     "execution_count": 370,
     "metadata": {},
     "output_type": "execute_result"
    }
   ],
   "source": [
    "data = pd.read_csv('./uci.csv')\n",
    "data.head()"
   ]
  },
  {
   "cell_type": "code",
   "execution_count": 371,
   "metadata": {},
   "outputs": [
    {
     "data": {
      "text/plain": [
       "id            0\n",
       "age           0\n",
       "sex           0\n",
       "dataset       0\n",
       "cp            0\n",
       "trestbps     59\n",
       "chol         30\n",
       "fbs          90\n",
       "restecg       2\n",
       "thalch       55\n",
       "exang        55\n",
       "oldpeak      62\n",
       "slope       309\n",
       "ca          611\n",
       "thal        486\n",
       "num           0\n",
       "dtype: int64"
      ]
     },
     "execution_count": 371,
     "metadata": {},
     "output_type": "execute_result"
    }
   ],
   "source": [
    "data.isna().sum()"
   ]
  },
  {
   "cell_type": "code",
   "execution_count": 372,
   "metadata": {},
   "outputs": [
    {
     "data": {
      "text/plain": [
       "id          0\n",
       "age         0\n",
       "sex         0\n",
       "dataset     0\n",
       "cp          0\n",
       "trestbps    0\n",
       "chol        0\n",
       "fbs         0\n",
       "restecg     0\n",
       "thalch      0\n",
       "exang       0\n",
       "oldpeak     0\n",
       "slope       0\n",
       "ca          0\n",
       "thal        0\n",
       "num         0\n",
       "dtype: int64"
      ]
     },
     "execution_count": 372,
     "metadata": {},
     "output_type": "execute_result"
    }
   ],
   "source": [
    "data = data.dropna()\n",
    "data.isna().sum()"
   ]
  },
  {
   "cell_type": "code",
   "execution_count": 373,
   "metadata": {},
   "outputs": [],
   "source": [
    "import seaborn as sns"
   ]
  },
  {
   "cell_type": "code",
   "execution_count": 374,
   "metadata": {},
   "outputs": [
    {
     "data": {
      "text/plain": [
       "<Axes: xlabel='age', ylabel='sex'>"
      ]
     },
     "execution_count": 374,
     "metadata": {},
     "output_type": "execute_result"
    },
    {
     "data": {
      "image/png": "[encoded data removed]",
      "text/plain": [
       "<Figure size 640x480 with 1 Axes>"
      ]
     },
     "metadata": {},
     "output_type": "display_data"
    }
   ],
   "source": [
    "sns.boxplot(data= data, x = 'age', y = 'sex', hue = 'num')"
   ]
  },
  {
   "cell_type": "code",
   "execution_count": 375,
   "metadata": {},
   "outputs": [
    {
     "data": {
      "text/plain": [
       "<Axes: xlabel='age', ylabel='Count'>"
      ]
     },
     "execution_count": 375,
     "metadata": {},
     "output_type": "execute_result"
    },
    {
     "data": {
      "image/png": "[encoded data removed]",
      "text/plain": [
       "<Figure size 640x480 with 1 Axes>"
      ]
     },
     "metadata": {},
     "output_type": "display_data"
    }
   ],
   "source": [
    "sns.histplot(data=data, x=\"age\", hue = 'num')"
   ]
  },
  {
   "cell_type": "code",
   "execution_count": 376,
   "metadata": {},
   "outputs": [
    {
     "data": {
      "text/plain": [
       "<Axes: xlabel='Count', ylabel='num'>"
      ]
     },
     "execution_count": 376,
     "metadata": {},
     "output_type": "execute_result"
    },
    {
     "data": {
      "image/png": "[encoded data removed]",
      "text/plain": [
       "<Figure size 640x480 with 1 Axes>"
      ]
     },
     "metadata": {},
     "output_type": "display_data"
    }
   ],
   "source": [
    "sns.histplot(data=data, y=\"num\", hue = 'num')"
   ]
  },
  {
   "cell_type": "code",
   "execution_count": 377,
   "metadata": {},
   "outputs": [
    {
     "data": {
      "text/plain": [
       "<seaborn.axisgrid.FacetGrid at 0x12d12cbe0>"
      ]
     },
     "execution_count": 377,
     "metadata": {},
     "output_type": "execute_result"
    },
    {
     "data": {
      "image/png": "[encoded data removed]",
      "text/plain": [
       "<Figure size 563.5x500 with 1 Axes>"
      ]
     },
     "metadata": {},
     "output_type": "display_data"
    }
   ],
   "source": [
    "sns.catplot(data=data, kind=\"swarm\", x=\"num\", y=\"age\", hue=\"num\")"
   ]
  },
  {
   "cell_type": "code",
   "execution_count": 378,
   "metadata": {},
   "outputs": [
    {
     "data": {
      "text/plain": [
       "id            int64\n",
       "age           int64\n",
       "sex          object\n",
       "dataset      object\n",
       "cp           object\n",
       "trestbps    float64\n",
       "chol        float64\n",
       "fbs          object\n",
       "restecg      object\n",
       "thalch      float64\n",
       "exang        object\n",
       "oldpeak     float64\n",
       "slope        object\n",
       "ca          float64\n",
       "thal         object\n",
       "num           int64\n",
       "dtype: object"
      ]
     },
     "execution_count": 378,
     "metadata": {},
     "output_type": "execute_result"
    }
   ],
   "source": [
    "data.dtypes"
   ]
  },
  {
   "cell_type": "code",
   "execution_count": 379,
   "metadata": {},
   "outputs": [
    {
     "data": {
      "text/plain": [
       "id            int64\n",
       "age           int64\n",
       "sex           int64\n",
       "dataset       int64\n",
       "cp            int64\n",
       "trestbps    float64\n",
       "chol        float64\n",
       "fbs           int64\n",
       "restecg       int64\n",
       "thalch      float64\n",
       "exang         int64\n",
       "oldpeak     float64\n",
       "slope         int64\n",
       "ca          float64\n",
       "thal          int64\n",
       "num           int64\n",
       "dtype: object"
      ]
     },
     "execution_count": 379,
     "metadata": {},
     "output_type": "execute_result"
    }
   ],
   "source": [
    "cols = ['sex', 'dataset', 'cp', 'fbs','restecg','exang','slope','thal']\n",
    "from sklearn.preprocessing import LabelEncoder\n",
    "\n",
    "le = LabelEncoder()\n",
    "for col in cols:\n",
    "    data[col] = le.fit_transform(data[col])\n",
    "data.dtypes"
   ]
  },
  {
   "cell_type": "code",
   "execution_count": 380,
   "metadata": {},
   "outputs": [
    {
     "data": {
      "text/plain": [
       "<Axes: >"
      ]
     },
     "execution_count": 380,
     "metadata": {},
     "output_type": "execute_result"
    },
    {
     "data": {
      "image/png": "[encoded data removed]",
      "text/plain": [
       "<Figure size 640x480 with 2 Axes>"
      ]
     },
     "metadata": {},
     "output_type": "display_data"
    }
   ],
   "source": [
    "maps_data = data.drop(['id'], axis = 1)\n",
    "sns.heatmap(maps_data.corr())"
   ]
  },
  {
   "cell_type": "code",
   "execution_count": 381,
   "metadata": {},
   "outputs": [
    {
     "data": {
      "text/html": [
       "<div>\n",
       "<style scoped>\n",
       "    .dataframe tbody tr th:only-of-type {\n",
       "        vertical-align: middle;\n",
       "    }\n",
       "\n",
       "    .dataframe tbody tr th {\n",
       "        vertical-align: top;\n",
       "    }\n",
       "\n",
       "    .dataframe thead th {\n",
       "        text-align: right;\n",
       "    }\n",
       "</style>\n",
       "<table border=\"1\" class=\"dataframe\">\n",
       "  <thead>\n",
       "    <tr style=\"text-align: right;\">\n",
       "      <th></th>\n",
       "      <th>id</th>\n",
       "      <th>age</th>\n",
       "      <th>sex</th>\n",
       "      <th>dataset</th>\n",
       "      <th>cp</th>\n",
       "      <th>trestbps</th>\n",
       "      <th>chol</th>\n",
       "      <th>fbs</th>\n",
       "      <th>restecg</th>\n",
       "      <th>thalch</th>\n",
       "      <th>exang</th>\n",
       "      <th>oldpeak</th>\n",
       "      <th>slope</th>\n",
       "      <th>ca</th>\n",
       "      <th>thal</th>\n",
       "      <th>num</th>\n",
       "    </tr>\n",
       "  </thead>\n",
       "  <tbody>\n",
       "    <tr>\n",
       "      <th>id</th>\n",
       "      <td>1.000000</td>\n",
       "      <td>0.001379</td>\n",
       "      <td>-0.056881</td>\n",
       "      <td>0.418747</td>\n",
       "      <td>-0.094403</td>\n",
       "      <td>-0.021051</td>\n",
       "      <td>-0.138639</td>\n",
       "      <td>-0.060584</td>\n",
       "      <td>0.192594</td>\n",
       "      <td>-0.159716</td>\n",
       "      <td>0.045102</td>\n",
       "      <td>-0.091294</td>\n",
       "      <td>0.007997</td>\n",
       "      <td>0.020103</td>\n",
       "      <td>-0.034021</td>\n",
       "      <td>0.031397</td>\n",
       "    </tr>\n",
       "    <tr>\n",
       "      <th>age</th>\n",
       "      <td>0.001379</td>\n",
       "      <td>1.000000</td>\n",
       "      <td>-0.093693</td>\n",
       "      <td>-0.013136</td>\n",
       "      <td>-0.060833</td>\n",
       "      <td>0.286149</td>\n",
       "      <td>0.199258</td>\n",
       "      <td>0.132752</td>\n",
       "      <td>-0.115722</td>\n",
       "      <td>-0.384176</td>\n",
       "      <td>0.092506</td>\n",
       "      <td>0.195929</td>\n",
       "      <td>-0.157545</td>\n",
       "      <td>0.362764</td>\n",
       "      <td>0.059228</td>\n",
       "      <td>0.221787</td>\n",
       "    </tr>\n",
       "    <tr>\n",
       "      <th>sex</th>\n",
       "      <td>-0.056881</td>\n",
       "      <td>-0.093693</td>\n",
       "      <td>1.000000</td>\n",
       "      <td>0.053518</td>\n",
       "      <td>-0.047326</td>\n",
       "      <td>-0.065209</td>\n",
       "      <td>-0.202500</td>\n",
       "      <td>0.036869</td>\n",
       "      <td>-0.062598</td>\n",
       "      <td>-0.067820</td>\n",
       "      <td>0.148956</td>\n",
       "      <td>0.108107</td>\n",
       "      <td>-0.036213</td>\n",
       "      <td>0.088292</td>\n",
       "      <td>0.217901</td>\n",
       "      <td>0.226636</td>\n",
       "    </tr>\n",
       "    <tr>\n",
       "      <th>dataset</th>\n",
       "      <td>0.418747</td>\n",
       "      <td>-0.013136</td>\n",
       "      <td>0.053518</td>\n",
       "      <td>1.000000</td>\n",
       "      <td>-0.071649</td>\n",
       "      <td>-0.007536</td>\n",
       "      <td>-0.155494</td>\n",
       "      <td>-0.031895</td>\n",
       "      <td>0.070336</td>\n",
       "      <td>-0.123605</td>\n",
       "      <td>0.110614</td>\n",
       "      <td>0.029597</td>\n",
       "      <td>-0.049865</td>\n",
       "      <td>-0.055901</td>\n",
       "      <td>0.089030</td>\n",
       "      <td>0.003390</td>\n",
       "    </tr>\n",
       "    <tr>\n",
       "      <th>cp</th>\n",
       "      <td>-0.094403</td>\n",
       "      <td>-0.060833</td>\n",
       "      <td>-0.047326</td>\n",
       "      <td>-0.071649</td>\n",
       "      <td>1.000000</td>\n",
       "      <td>0.038374</td>\n",
       "      <td>-0.060095</td>\n",
       "      <td>0.121552</td>\n",
       "      <td>0.036252</td>\n",
       "      <td>0.301240</td>\n",
       "      <td>-0.385983</td>\n",
       "      <td>-0.140811</td>\n",
       "      <td>0.104842</td>\n",
       "      <td>-0.217937</td>\n",
       "      <td>-0.166515</td>\n",
       "      <td>-0.411183</td>\n",
       "    </tr>\n",
       "    <tr>\n",
       "      <th>trestbps</th>\n",
       "      <td>-0.021051</td>\n",
       "      <td>0.286149</td>\n",
       "      <td>-0.065209</td>\n",
       "      <td>-0.007536</td>\n",
       "      <td>0.038374</td>\n",
       "      <td>1.000000</td>\n",
       "      <td>0.134240</td>\n",
       "      <td>0.179791</td>\n",
       "      <td>-0.120111</td>\n",
       "      <td>-0.053320</td>\n",
       "      <td>0.067843</td>\n",
       "      <td>0.191144</td>\n",
       "      <td>-0.121500</td>\n",
       "      <td>0.096641</td>\n",
       "      <td>0.061708</td>\n",
       "      <td>0.159272</td>\n",
       "    </tr>\n",
       "    <tr>\n",
       "      <th>chol</th>\n",
       "      <td>-0.138639</td>\n",
       "      <td>0.199258</td>\n",
       "      <td>-0.202500</td>\n",
       "      <td>-0.155494</td>\n",
       "      <td>-0.060095</td>\n",
       "      <td>0.134240</td>\n",
       "      <td>1.000000</td>\n",
       "      <td>0.016939</td>\n",
       "      <td>-0.152597</td>\n",
       "      <td>0.014894</td>\n",
       "      <td>0.042846</td>\n",
       "      <td>0.033964</td>\n",
       "      <td>0.015971</td>\n",
       "      <td>0.121907</td>\n",
       "      <td>0.066443</td>\n",
       "      <td>0.065081</td>\n",
       "    </tr>\n",
       "    <tr>\n",
       "      <th>fbs</th>\n",
       "      <td>-0.060584</td>\n",
       "      <td>0.132752</td>\n",
       "      <td>0.036869</td>\n",
       "      <td>-0.031895</td>\n",
       "      <td>0.121552</td>\n",
       "      <td>0.179791</td>\n",
       "      <td>0.016939</td>\n",
       "      <td>1.000000</td>\n",
       "      <td>-0.083047</td>\n",
       "      <td>-0.002929</td>\n",
       "      <td>-0.004809</td>\n",
       "      <td>0.007252</td>\n",
       "      <td>-0.045958</td>\n",
       "      <td>0.153718</td>\n",
       "      <td>-0.020172</td>\n",
       "      <td>0.048892</td>\n",
       "    </tr>\n",
       "    <tr>\n",
       "      <th>restecg</th>\n",
       "      <td>0.192594</td>\n",
       "      <td>-0.115722</td>\n",
       "      <td>-0.062598</td>\n",
       "      <td>0.070336</td>\n",
       "      <td>0.036252</td>\n",
       "      <td>-0.120111</td>\n",
       "      <td>-0.152597</td>\n",
       "      <td>-0.083047</td>\n",
       "      <td>1.000000</td>\n",
       "      <td>0.017245</td>\n",
       "      <td>-0.053871</td>\n",
       "      <td>-0.049834</td>\n",
       "      <td>0.083082</td>\n",
       "      <td>-0.112497</td>\n",
       "      <td>0.000182</td>\n",
       "      <td>-0.132639</td>\n",
       "    </tr>\n",
       "    <tr>\n",
       "      <th>thalch</th>\n",
       "      <td>-0.159716</td>\n",
       "      <td>-0.384176</td>\n",
       "      <td>-0.067820</td>\n",
       "      <td>-0.123605</td>\n",
       "      <td>0.301240</td>\n",
       "      <td>-0.053320</td>\n",
       "      <td>0.014894</td>\n",
       "      <td>-0.002929</td>\n",
       "      <td>0.017245</td>\n",
       "      <td>1.000000</td>\n",
       "      <td>-0.394229</td>\n",
       "      <td>-0.348089</td>\n",
       "      <td>0.391992</td>\n",
       "      <td>-0.256831</td>\n",
       "      <td>-0.124510</td>\n",
       "      <td>-0.416480</td>\n",
       "    </tr>\n",
       "    <tr>\n",
       "      <th>exang</th>\n",
       "      <td>0.045102</td>\n",
       "      <td>0.092506</td>\n",
       "      <td>0.148956</td>\n",
       "      <td>0.110614</td>\n",
       "      <td>-0.385983</td>\n",
       "      <td>0.067843</td>\n",
       "      <td>0.042846</td>\n",
       "      <td>-0.004809</td>\n",
       "      <td>-0.053871</td>\n",
       "      <td>-0.394229</td>\n",
       "      <td>1.000000</td>\n",
       "      <td>0.290835</td>\n",
       "      <td>-0.254650</td>\n",
       "      <td>0.140089</td>\n",
       "      <td>0.233616</td>\n",
       "      <td>0.389355</td>\n",
       "    </tr>\n",
       "    <tr>\n",
       "      <th>oldpeak</th>\n",
       "      <td>-0.091294</td>\n",
       "      <td>0.195929</td>\n",
       "      <td>0.108107</td>\n",
       "      <td>0.029597</td>\n",
       "      <td>-0.140811</td>\n",
       "      <td>0.191144</td>\n",
       "      <td>0.033964</td>\n",
       "      <td>0.007252</td>\n",
       "      <td>-0.049834</td>\n",
       "      <td>-0.348089</td>\n",
       "      <td>0.290835</td>\n",
       "      <td>1.000000</td>\n",
       "      <td>-0.579596</td>\n",
       "      <td>0.291958</td>\n",
       "      <td>0.214868</td>\n",
       "      <td>0.501325</td>\n",
       "    </tr>\n",
       "    <tr>\n",
       "      <th>slope</th>\n",
       "      <td>0.007997</td>\n",
       "      <td>-0.157545</td>\n",
       "      <td>-0.036213</td>\n",
       "      <td>-0.049865</td>\n",
       "      <td>0.104842</td>\n",
       "      <td>-0.121500</td>\n",
       "      <td>0.015971</td>\n",
       "      <td>-0.045958</td>\n",
       "      <td>0.083082</td>\n",
       "      <td>0.391992</td>\n",
       "      <td>-0.254650</td>\n",
       "      <td>-0.579596</td>\n",
       "      <td>1.000000</td>\n",
       "      <td>-0.106319</td>\n",
       "      <td>-0.102807</td>\n",
       "      <td>-0.374357</td>\n",
       "    </tr>\n",
       "    <tr>\n",
       "      <th>ca</th>\n",
       "      <td>0.020103</td>\n",
       "      <td>0.362764</td>\n",
       "      <td>0.088292</td>\n",
       "      <td>-0.055901</td>\n",
       "      <td>-0.217937</td>\n",
       "      <td>0.096641</td>\n",
       "      <td>0.121907</td>\n",
       "      <td>0.153718</td>\n",
       "      <td>-0.112497</td>\n",
       "      <td>-0.256831</td>\n",
       "      <td>0.140089</td>\n",
       "      <td>0.291958</td>\n",
       "      <td>-0.106319</td>\n",
       "      <td>1.000000</td>\n",
       "      <td>0.143314</td>\n",
       "      <td>0.520058</td>\n",
       "    </tr>\n",
       "    <tr>\n",
       "      <th>thal</th>\n",
       "      <td>-0.034021</td>\n",
       "      <td>0.059228</td>\n",
       "      <td>0.217901</td>\n",
       "      <td>0.089030</td>\n",
       "      <td>-0.166515</td>\n",
       "      <td>0.061708</td>\n",
       "      <td>0.066443</td>\n",
       "      <td>-0.020172</td>\n",
       "      <td>0.000182</td>\n",
       "      <td>-0.124510</td>\n",
       "      <td>0.233616</td>\n",
       "      <td>0.214868</td>\n",
       "      <td>-0.102807</td>\n",
       "      <td>0.143314</td>\n",
       "      <td>1.000000</td>\n",
       "      <td>0.350634</td>\n",
       "    </tr>\n",
       "    <tr>\n",
       "      <th>num</th>\n",
       "      <td>0.031397</td>\n",
       "      <td>0.221787</td>\n",
       "      <td>0.226636</td>\n",
       "      <td>0.003390</td>\n",
       "      <td>-0.411183</td>\n",
       "      <td>0.159272</td>\n",
       "      <td>0.065081</td>\n",
       "      <td>0.048892</td>\n",
       "      <td>-0.132639</td>\n",
       "      <td>-0.416480</td>\n",
       "      <td>0.389355</td>\n",
       "      <td>0.501325</td>\n",
       "      <td>-0.374357</td>\n",
       "      <td>0.520058</td>\n",
       "      <td>0.350634</td>\n",
       "      <td>1.000000</td>\n",
       "    </tr>\n",
       "  </tbody>\n",
       "</table>\n",
       "</div>"
      ],
      "text/plain": [
       "                id       age       sex   dataset        cp  trestbps  \\\n",
       "id        1.000000  0.001379 -0.056881  0.418747 -0.094403 -0.021051   \n",
       "age       0.001379  1.000000 -0.093693 -0.013136 -0.060833  0.286149   \n",
       "sex      -0.056881 -0.093693  1.000000  0.053518 -0.047326 -0.065209   \n",
       "dataset   0.418747 -0.013136  0.053518  1.000000 -0.071649 -0.007536   \n",
       "cp       -0.094403 -0.060833 -0.047326 -0.071649  1.000000  0.038374   \n",
       "trestbps -0.021051  0.286149 -0.065209 -0.007536  0.038374  1.000000   \n",
       "chol     -0.138639  0.199258 -0.202500 -0.155494 -0.060095  0.134240   \n",
       "fbs      -0.060584  0.132752  0.036869 -0.031895  0.121552  0.179791   \n",
       "restecg   0.192594 -0.115722 -0.062598  0.070336  0.036252 -0.120111   \n",
       "thalch   -0.159716 -0.384176 -0.067820 -0.123605  0.301240 -0.053320   \n",
       "exang     0.045102  0.092506  0.148956  0.110614 -0.385983  0.067843   \n",
       "oldpeak  -0.091294  0.195929  0.108107  0.029597 -0.140811  0.191144   \n",
       "slope     0.007997 -0.157545 -0.036213 -0.049865  0.104842 -0.121500   \n",
       "ca        0.020103  0.362764  0.088292 -0.055901 -0.217937  0.096641   \n",
       "thal     -0.034021  0.059228  0.217901  0.089030 -0.166515  0.061708   \n",
       "num       0.031397  0.221787  0.226636  0.003390 -0.411183  0.159272   \n",
       "\n",
       "              chol       fbs   restecg    thalch     exang   oldpeak  \\\n",
       "id       -0.138639 -0.060584  0.192594 -0.159716  0.045102 -0.091294   \n",
       "age       0.199258  0.132752 -0.115722 -0.384176  0.092506  0.195929   \n",
       "sex      -0.202500  0.036869 -0.062598 -0.067820  0.148956  0.108107   \n",
       "dataset  -0.155494 -0.031895  0.070336 -0.123605  0.110614  0.029597   \n",
       "cp       -0.060095  0.121552  0.036252  0.301240 -0.385983 -0.140811   \n",
       "trestbps  0.134240  0.179791 -0.120111 -0.053320  0.067843  0.191144   \n",
       "chol      1.000000  0.016939 -0.152597  0.014894  0.042846  0.033964   \n",
       "fbs       0.016939  1.000000 -0.083047 -0.002929 -0.004809  0.007252   \n",
       "restecg  -0.152597 -0.083047  1.000000  0.017245 -0.053871 -0.049834   \n",
       "thalch    0.014894 -0.002929  0.017245  1.000000 -0.394229 -0.348089   \n",
       "exang     0.042846 -0.004809 -0.053871 -0.394229  1.000000  0.290835   \n",
       "oldpeak   0.033964  0.007252 -0.049834 -0.348089  0.290835  1.000000   \n",
       "slope     0.015971 -0.045958  0.083082  0.391992 -0.254650 -0.579596   \n",
       "ca        0.121907  0.153718 -0.112497 -0.256831  0.140089  0.291958   \n",
       "thal      0.066443 -0.020172  0.000182 -0.124510  0.233616  0.214868   \n",
       "num       0.065081  0.048892 -0.132639 -0.416480  0.389355  0.501325   \n",
       "\n",
       "             slope        ca      thal       num  \n",
       "id        0.007997  0.020103 -0.034021  0.031397  \n",
       "age      -0.157545  0.362764  0.059228  0.221787  \n",
       "sex      -0.036213  0.088292  0.217901  0.226636  \n",
       "dataset  -0.049865 -0.055901  0.089030  0.003390  \n",
       "cp        0.104842 -0.217937 -0.166515 -0.411183  \n",
       "trestbps -0.121500  0.096641  0.061708  0.159272  \n",
       "chol      0.015971  0.121907  0.066443  0.065081  \n",
       "fbs      -0.045958  0.153718 -0.020172  0.048892  \n",
       "restecg   0.083082 -0.112497  0.000182 -0.132639  \n",
       "thalch    0.391992 -0.256831 -0.124510 -0.416480  \n",
       "exang    -0.254650  0.140089  0.233616  0.389355  \n",
       "oldpeak  -0.579596  0.291958  0.214868  0.501325  \n",
       "slope     1.000000 -0.106319 -0.102807 -0.374357  \n",
       "ca       -0.106319  1.000000  0.143314  0.520058  \n",
       "thal     -0.102807  0.143314  1.000000  0.350634  \n",
       "num      -0.374357  0.520058  0.350634  1.000000  "
      ]
     },
     "execution_count": 381,
     "metadata": {},
     "output_type": "execute_result"
    }
   ],
   "source": [
    "data.corr()"
   ]
  },
  {
   "cell_type": "code",
   "execution_count": 382,
   "metadata": {},
   "outputs": [],
   "source": [
    "X = data.drop(['num'], axis = 1)\n",
    "y = data['num']"
   ]
  },
  {
   "cell_type": "code",
   "execution_count": 383,
   "metadata": {},
   "outputs": [
    {
     "data": {
      "text/plain": [
       "((239, 15), (239,))"
      ]
     },
     "execution_count": 383,
     "metadata": {},
     "output_type": "execute_result"
    }
   ],
   "source": [
    "from sklearn.model_selection import train_test_split\n",
    "from sklearn.metrics import accuracy_score\n",
    "\n",
    "X_train, X_test, y_train, y_test = train_test_split(X,y, test_size=0.2, random_state=42)\n",
    "X_train.shape, y_train.shape"
   ]
  },
  {
   "cell_type": "code",
   "execution_count": 384,
   "metadata": {},
   "outputs": [
    {
     "data": {
      "text/plain": [
       "0.5666666666666667"
      ]
     },
     "execution_count": 384,
     "metadata": {},
     "output_type": "execute_result"
    }
   ],
   "source": [
    "from sklearn.tree import DecisionTreeClassifier\n",
    "\n",
    "dtc = DecisionTreeClassifier()\n",
    "dtc.fit(X_train, y_train)\n",
    "accuracy_score(y_test, dtc.predict(X_test))"
   ]
  },
  {
   "cell_type": "code",
   "execution_count": 385,
   "metadata": {},
   "outputs": [
    {
     "data": {
      "text/plain": [
       "0.5333333333333333"
      ]
     },
     "execution_count": 385,
     "metadata": {},
     "output_type": "execute_result"
    }
   ],
   "source": [
    "from sklearn.neighbors import KNeighborsClassifier\n",
    "\n",
    "knn = KNeighborsClassifier(n_neighbors=5)\n",
    "knn.fit(X_train, y_train)\n",
    "accuracy_score(y_test, knn.predict(X_test) )"
   ]
  },
  {
   "cell_type": "code",
   "execution_count": 386,
   "metadata": {},
   "outputs": [
    {
     "data": {
      "text/plain": [
       "0.5666666666666667"
      ]
     },
     "execution_count": 386,
     "metadata": {},
     "output_type": "execute_result"
    }
   ],
   "source": [
    "from sklearn.ensemble import RandomForestClassifier\n",
    "\n",
    "rfc = RandomForestClassifier()\n",
    "rfc.fit(X_train, y_train)\n",
    "accuracy_score(y_test, rfc.predict(X_test))"
   ]
  },
  {
   "cell_type": "code",
   "execution_count": 387,
   "metadata": {},
   "outputs": [],
   "source": [
    "import keras\n",
    "from keras.layers import Dense, Dropout\n",
    "from keras.models import Sequential"
   ]
  },
  {
   "cell_type": "code",
   "execution_count": 388,
   "metadata": {},
   "outputs": [
    {
     "data": {
      "text/plain": [
       "((299, 15), (299, 5))"
      ]
     },
     "execution_count": 388,
     "metadata": {},
     "output_type": "execute_result"
    }
   ],
   "source": [
    "from sklearn.preprocessing import StandardScaler\n",
    "from tensorflow.keras.utils import to_categorical\n",
    "\n",
    "std = StandardScaler()\n",
    "X_scaled = std.fit_transform(X)\n",
    "y_encoded = to_categorical(y)\n",
    "X_scaled.shape, y_encoded.shape"
   ]
  },
  {
   "cell_type": "code",
   "execution_count": 389,
   "metadata": {},
   "outputs": [
    {
     "data": {
      "text/plain": [
       "((239, 15), (239, 5))"
      ]
     },
     "execution_count": 389,
     "metadata": {},
     "output_type": "execute_result"
    }
   ],
   "source": [
    "from sklearn.model_selection import train_test_split\n",
    "from sklearn.metrics import accuracy_score\n",
    "\n",
    "X_train, X_test, y_train, y_test = train_test_split(X_scaled,y_encoded, test_size=0.2, random_state=42)\n",
    "X_train.shape, y_train.shape"
   ]
  },
  {
   "cell_type": "code",
   "execution_count": 390,
   "metadata": {},
   "outputs": [
    {
     "name": "stderr",
     "output_type": "stream",
     "text": [
      "/Users/bhagya/Desktop/code/uci-heart/env/lib/python3.9/site-packages/keras/src/layers/core/dense.py:87: UserWarning: Do not pass an `input_shape`/`input_dim` argument to a layer. When using Sequential models, prefer using an `Input(shape)` object as the first layer in the model instead.\n",
      "  super().__init__(activity_regularizer=activity_regularizer, **kwargs)\n"
     ]
    },
    {
     "data": {
      "text/html": [
       "<pre style=\"white-space:pre;overflow-x:auto;line-height:normal;font-family:Menlo,'DejaVu Sans Mono',consolas,'Courier New',monospace\"><span style=\"font-weight: bold\">Model: \"sequential_19\"</span>\n",
       "</pre>\n"
      ],
      "text/plain": [
       "\u001b[1mModel: \"sequential_19\"\u001b[0m\n"
      ]
     },
     "metadata": {},
     "output_type": "display_data"
    },
    {
     "data": {
      "text/html": [
       "<pre style=\"white-space:pre;overflow-x:auto;line-height:normal;font-family:Menlo,'DejaVu Sans Mono',consolas,'Courier New',monospace\">┏━━━━━━━━━━━━━━━━━━━━━━━━━━━━━━━━━┳━━━━━━━━━━━━━━━━━━━━━━━━┳━━━━━━━━━━━━━━━┓\n",
       "┃<span style=\"font-weight: bold\"> Layer (type)                    </span>┃<span style=\"font-weight: bold\"> Output Shape           </span>┃<span style=\"font-weight: bold\">       Param # </span>┃\n",
       "┡━━━━━━━━━━━━━━━━━━━━━━━━━━━━━━━━━╇━━━━━━━━━━━━━━━━━━━━━━━━╇━━━━━━━━━━━━━━━┩\n",
       "│ dense_61 (<span style=\"color: #0087ff; text-decoration-color: #0087ff\">Dense</span>)                │ (<span style=\"color: #00d7ff; text-decoration-color: #00d7ff\">None</span>, <span style=\"color: #00af00; text-decoration-color: #00af00\">8</span>)              │           <span style=\"color: #00af00; text-decoration-color: #00af00\">128</span> │\n",
       "├─────────────────────────────────┼────────────────────────┼───────────────┤\n",
       "│ dropout_42 (<span style=\"color: #0087ff; text-decoration-color: #0087ff\">Dropout</span>)            │ (<span style=\"color: #00d7ff; text-decoration-color: #00d7ff\">None</span>, <span style=\"color: #00af00; text-decoration-color: #00af00\">8</span>)              │             <span style=\"color: #00af00; text-decoration-color: #00af00\">0</span> │\n",
       "├─────────────────────────────────┼────────────────────────┼───────────────┤\n",
       "│ dense_62 (<span style=\"color: #0087ff; text-decoration-color: #0087ff\">Dense</span>)                │ (<span style=\"color: #00d7ff; text-decoration-color: #00d7ff\">None</span>, <span style=\"color: #00af00; text-decoration-color: #00af00\">16</span>)             │           <span style=\"color: #00af00; text-decoration-color: #00af00\">144</span> │\n",
       "├─────────────────────────────────┼────────────────────────┼───────────────┤\n",
       "│ dropout_43 (<span style=\"color: #0087ff; text-decoration-color: #0087ff\">Dropout</span>)            │ (<span style=\"color: #00d7ff; text-decoration-color: #00d7ff\">None</span>, <span style=\"color: #00af00; text-decoration-color: #00af00\">16</span>)             │             <span style=\"color: #00af00; text-decoration-color: #00af00\">0</span> │\n",
       "├─────────────────────────────────┼────────────────────────┼───────────────┤\n",
       "│ dense_63 (<span style=\"color: #0087ff; text-decoration-color: #0087ff\">Dense</span>)                │ (<span style=\"color: #00d7ff; text-decoration-color: #00d7ff\">None</span>, <span style=\"color: #00af00; text-decoration-color: #00af00\">5</span>)              │            <span style=\"color: #00af00; text-decoration-color: #00af00\">85</span> │\n",
       "└─────────────────────────────────┴────────────────────────┴───────────────┘\n",
       "</pre>\n"
      ],
      "text/plain": [
       "┏━━━━━━━━━━━━━━━━━━━━━━━━━━━━━━━━━┳━━━━━━━━━━━━━━━━━━━━━━━━┳━━━━━━━━━━━━━━━┓\n",
       "┃\u001b[1m \u001b[0m\u001b[1mLayer (type)                   \u001b[0m\u001b[1m \u001b[0m┃\u001b[1m \u001b[0m\u001b[1mOutput Shape          \u001b[0m\u001b[1m \u001b[0m┃\u001b[1m \u001b[0m\u001b[1m      Param #\u001b[0m\u001b[1m \u001b[0m┃\n",
       "┡━━━━━━━━━━━━━━━━━━━━━━━━━━━━━━━━━╇━━━━━━━━━━━━━━━━━━━━━━━━╇━━━━━━━━━━━━━━━┩\n",
       "│ dense_61 (\u001b[38;5;33mDense\u001b[0m)                │ (\u001b[38;5;45mNone\u001b[0m, \u001b[38;5;34m8\u001b[0m)              │           \u001b[38;5;34m128\u001b[0m │\n",
       "├─────────────────────────────────┼────────────────────────┼───────────────┤\n",
       "│ dropout_42 (\u001b[38;5;33mDropout\u001b[0m)            │ (\u001b[38;5;45mNone\u001b[0m, \u001b[38;5;34m8\u001b[0m)              │             \u001b[38;5;34m0\u001b[0m │\n",
       "├─────────────────────────────────┼────────────────────────┼───────────────┤\n",
       "│ dense_62 (\u001b[38;5;33mDense\u001b[0m)                │ (\u001b[38;5;45mNone\u001b[0m, \u001b[38;5;34m16\u001b[0m)             │           \u001b[38;5;34m144\u001b[0m │\n",
       "├─────────────────────────────────┼────────────────────────┼───────────────┤\n",
       "│ dropout_43 (\u001b[38;5;33mDropout\u001b[0m)            │ (\u001b[38;5;45mNone\u001b[0m, \u001b[38;5;34m16\u001b[0m)             │             \u001b[38;5;34m0\u001b[0m │\n",
       "├─────────────────────────────────┼────────────────────────┼───────────────┤\n",
       "│ dense_63 (\u001b[38;5;33mDense\u001b[0m)                │ (\u001b[38;5;45mNone\u001b[0m, \u001b[38;5;34m5\u001b[0m)              │            \u001b[38;5;34m85\u001b[0m │\n",
       "└─────────────────────────────────┴────────────────────────┴───────────────┘\n"
      ]
     },
     "metadata": {},
     "output_type": "display_data"
    },
    {
     "data": {
      "text/html": [
       "<pre style=\"white-space:pre;overflow-x:auto;line-height:normal;font-family:Menlo,'DejaVu Sans Mono',consolas,'Courier New',monospace\"><span style=\"font-weight: bold\"> Total params: </span><span style=\"color: #00af00; text-decoration-color: #00af00\">357</span> (1.39 KB)\n",
       "</pre>\n"
      ],
      "text/plain": [
       "\u001b[1m Total params: \u001b[0m\u001b[38;5;34m357\u001b[0m (1.39 KB)\n"
      ]
     },
     "metadata": {},
     "output_type": "display_data"
    },
    {
     "data": {
      "text/html": [
       "<pre style=\"white-space:pre;overflow-x:auto;line-height:normal;font-family:Menlo,'DejaVu Sans Mono',consolas,'Courier New',monospace\"><span style=\"font-weight: bold\"> Trainable params: </span><span style=\"color: #00af00; text-decoration-color: #00af00\">357</span> (1.39 KB)\n",
       "</pre>\n"
      ],
      "text/plain": [
       "\u001b[1m Trainable params: \u001b[0m\u001b[38;5;34m357\u001b[0m (1.39 KB)\n"
      ]
     },
     "metadata": {},
     "output_type": "display_data"
    },
    {
     "data": {
      "text/html": [
       "<pre style=\"white-space:pre;overflow-x:auto;line-height:normal;font-family:Menlo,'DejaVu Sans Mono',consolas,'Courier New',monospace\"><span style=\"font-weight: bold\"> Non-trainable params: </span><span style=\"color: #00af00; text-decoration-color: #00af00\">0</span> (0.00 B)\n",
       "</pre>\n"
      ],
      "text/plain": [
       "\u001b[1m Non-trainable params: \u001b[0m\u001b[38;5;34m0\u001b[0m (0.00 B)\n"
      ]
     },
     "metadata": {},
     "output_type": "display_data"
    }
   ],
   "source": [
    "model = Sequential()\n",
    "model.add(Dense(8, input_shape = (X_train.shape[1],), activation = 'relu'))\n",
    "model.add(Dropout(0.2))\n",
    "model.add(Dense(16, activation = 'relu'))\n",
    "model.add(Dropout(0.3))\n",
    "model.add(Dense(y_train.shape[1], activation = 'sigmoid'))\n",
    "model.summary()"
   ]
  },
  {
   "cell_type": "code",
   "execution_count": 391,
   "metadata": {},
   "outputs": [
    {
     "name": "stdout",
     "output_type": "stream",
     "text": [
      "Epoch 1/50\n",
      "\u001b[1m7/7\u001b[0m \u001b[32m━━━━━━━━━━━━━━━━━━━━\u001b[0m\u001b[37m\u001b[0m \u001b[1m1s\u001b[0m 17ms/step - accuracy: 0.0869 - loss: 1.9312 - val_accuracy: 0.0833 - val_loss: 1.9546\n",
      "Epoch 2/50\n",
      "\u001b[1m7/7\u001b[0m \u001b[32m━━━━━━━━━━━━━━━━━━━━\u001b[0m\u001b[37m\u001b[0m \u001b[1m0s\u001b[0m 6ms/step - accuracy: 0.1146 - loss: 1.9640 - val_accuracy: 0.0833 - val_loss: 1.8942\n",
      "Epoch 3/50\n",
      "\u001b[1m7/7\u001b[0m \u001b[32m━━━━━━━━━━━━━━━━━━━━\u001b[0m\u001b[37m\u001b[0m \u001b[1m0s\u001b[0m 6ms/step - accuracy: 0.1179 - loss: 1.8472 - val_accuracy: 0.0833 - val_loss: 1.8414\n",
      "Epoch 4/50\n",
      "\u001b[1m7/7\u001b[0m \u001b[32m━━━━━━━━━━━━━━━━━━━━\u001b[0m\u001b[37m\u001b[0m \u001b[1m0s\u001b[0m 6ms/step - accuracy: 0.1717 - loss: 1.7765 - val_accuracy: 0.0833 - val_loss: 1.7927\n",
      "Epoch 5/50\n",
      "\u001b[1m7/7\u001b[0m \u001b[32m━━━━━━━━━━━━━━━━━━━━\u001b[0m\u001b[37m\u001b[0m \u001b[1m0s\u001b[0m 6ms/step - accuracy: 0.1785 - loss: 1.7522 - val_accuracy: 0.0833 - val_loss: 1.7478\n",
      "Epoch 6/50\n",
      "\u001b[1m7/7\u001b[0m \u001b[32m━━━━━━━━━━━━━━━━━━━━\u001b[0m\u001b[37m\u001b[0m \u001b[1m0s\u001b[0m 8ms/step - accuracy: 0.1349 - loss: 1.7340 - val_accuracy: 0.1250 - val_loss: 1.7054\n",
      "Epoch 7/50\n",
      "\u001b[1m7/7\u001b[0m \u001b[32m━━━━━━━━━━━━━━━━━━━━\u001b[0m\u001b[37m\u001b[0m \u001b[1m0s\u001b[0m 6ms/step - accuracy: 0.2267 - loss: 1.7147 - val_accuracy: 0.1667 - val_loss: 1.6648\n",
      "Epoch 8/50\n",
      "\u001b[1m7/7\u001b[0m \u001b[32m━━━━━━━━━━━━━━━━━━━━\u001b[0m\u001b[37m\u001b[0m \u001b[1m0s\u001b[0m 6ms/step - accuracy: 0.1991 - loss: 1.6997 - val_accuracy: 0.1667 - val_loss: 1.6276\n",
      "Epoch 9/50\n",
      "\u001b[1m7/7\u001b[0m \u001b[32m━━━━━━━━━━━━━━━━━━━━\u001b[0m\u001b[37m\u001b[0m \u001b[1m0s\u001b[0m 6ms/step - accuracy: 0.2553 - loss: 1.6355 - val_accuracy: 0.2083 - val_loss: 1.5917\n",
      "Epoch 10/50\n",
      "\u001b[1m7/7\u001b[0m \u001b[32m━━━━━━━━━━━━━━━━━━━━\u001b[0m\u001b[37m\u001b[0m \u001b[1m0s\u001b[0m 6ms/step - accuracy: 0.2940 - loss: 1.5691 - val_accuracy: 0.3333 - val_loss: 1.5577\n",
      "Epoch 11/50\n",
      "\u001b[1m7/7\u001b[0m \u001b[32m━━━━━━━━━━━━━━━━━━━━\u001b[0m\u001b[37m\u001b[0m \u001b[1m0s\u001b[0m 6ms/step - accuracy: 0.3307 - loss: 1.5432 - val_accuracy: 0.4583 - val_loss: 1.5261\n",
      "Epoch 12/50\n",
      "\u001b[1m7/7\u001b[0m \u001b[32m━━━━━━━━━━━━━━━━━━━━\u001b[0m\u001b[37m\u001b[0m \u001b[1m0s\u001b[0m 6ms/step - accuracy: 0.3298 - loss: 1.5554 - val_accuracy: 0.4583 - val_loss: 1.4966\n",
      "Epoch 13/50\n",
      "\u001b[1m7/7\u001b[0m \u001b[32m━━━━━━━━━━━━━━━━━━━━\u001b[0m\u001b[37m\u001b[0m \u001b[1m0s\u001b[0m 6ms/step - accuracy: 0.3472 - loss: 1.5096 - val_accuracy: 0.5417 - val_loss: 1.4672\n",
      "Epoch 14/50\n",
      "\u001b[1m7/7\u001b[0m \u001b[32m━━━━━━━━━━━━━━━━━━━━\u001b[0m\u001b[37m\u001b[0m \u001b[1m0s\u001b[0m 6ms/step - accuracy: 0.3503 - loss: 1.4997 - val_accuracy: 0.5417 - val_loss: 1.4400\n",
      "Epoch 15/50\n",
      "\u001b[1m7/7\u001b[0m \u001b[32m━━━━━━━━━━━━━━━━━━━━\u001b[0m\u001b[37m\u001b[0m \u001b[1m0s\u001b[0m 6ms/step - accuracy: 0.3555 - loss: 1.5434 - val_accuracy: 0.5417 - val_loss: 1.4140\n",
      "Epoch 16/50\n",
      "\u001b[1m7/7\u001b[0m \u001b[32m━━━━━━━━━━━━━━━━━━━━\u001b[0m\u001b[37m\u001b[0m \u001b[1m0s\u001b[0m 6ms/step - accuracy: 0.3669 - loss: 1.5311 - val_accuracy: 0.6667 - val_loss: 1.3882\n",
      "Epoch 17/50\n",
      "\u001b[1m7/7\u001b[0m \u001b[32m━━━━━━━━━━━━━━━━━━━━\u001b[0m\u001b[37m\u001b[0m \u001b[1m0s\u001b[0m 6ms/step - accuracy: 0.3973 - loss: 1.4705 - val_accuracy: 0.7083 - val_loss: 1.3621\n",
      "Epoch 18/50\n",
      "\u001b[1m7/7\u001b[0m \u001b[32m━━━━━━━━━━━━━━━━━━━━\u001b[0m\u001b[37m\u001b[0m \u001b[1m0s\u001b[0m 6ms/step - accuracy: 0.4139 - loss: 1.4630 - val_accuracy: 0.7083 - val_loss: 1.3373\n",
      "Epoch 19/50\n",
      "\u001b[1m7/7\u001b[0m \u001b[32m━━━━━━━━━━━━━━━━━━━━\u001b[0m\u001b[37m\u001b[0m \u001b[1m0s\u001b[0m 6ms/step - accuracy: 0.4373 - loss: 1.4450 - val_accuracy: 0.7083 - val_loss: 1.3135\n",
      "Epoch 20/50\n",
      "\u001b[1m7/7\u001b[0m \u001b[32m━━━━━━━━━━━━━━━━━━━━\u001b[0m\u001b[37m\u001b[0m \u001b[1m0s\u001b[0m 6ms/step - accuracy: 0.4711 - loss: 1.4039 - val_accuracy: 0.7083 - val_loss: 1.2889\n",
      "Epoch 21/50\n",
      "\u001b[1m7/7\u001b[0m \u001b[32m━━━━━━━━━━━━━━━━━━━━\u001b[0m\u001b[37m\u001b[0m \u001b[1m0s\u001b[0m 6ms/step - accuracy: 0.5370 - loss: 1.3873 - val_accuracy: 0.7083 - val_loss: 1.2656\n",
      "Epoch 22/50\n",
      "\u001b[1m7/7\u001b[0m \u001b[32m━━━━━━━━━━━━━━━━━━━━\u001b[0m\u001b[37m\u001b[0m \u001b[1m0s\u001b[0m 6ms/step - accuracy: 0.4664 - loss: 1.4247 - val_accuracy: 0.7500 - val_loss: 1.2419\n",
      "Epoch 23/50\n",
      "\u001b[1m7/7\u001b[0m \u001b[32m━━━━━━━━━━━━━━━━━━━━\u001b[0m\u001b[37m\u001b[0m \u001b[1m0s\u001b[0m 5ms/step - accuracy: 0.4798 - loss: 1.3770 - val_accuracy: 0.7500 - val_loss: 1.2183\n",
      "Epoch 24/50\n",
      "\u001b[1m7/7\u001b[0m \u001b[32m━━━━━━━━━━━━━━━━━━━━\u001b[0m\u001b[37m\u001b[0m \u001b[1m0s\u001b[0m 6ms/step - accuracy: 0.5560 - loss: 1.2978 - val_accuracy: 0.7500 - val_loss: 1.1928\n",
      "Epoch 25/50\n",
      "\u001b[1m7/7\u001b[0m \u001b[32m━━━━━━━━━━━━━━━━━━━━\u001b[0m\u001b[37m\u001b[0m \u001b[1m0s\u001b[0m 5ms/step - accuracy: 0.4662 - loss: 1.3754 - val_accuracy: 0.7500 - val_loss: 1.1687\n",
      "Epoch 26/50\n",
      "\u001b[1m7/7\u001b[0m \u001b[32m━━━━━━━━━━━━━━━━━━━━\u001b[0m\u001b[37m\u001b[0m \u001b[1m0s\u001b[0m 5ms/step - accuracy: 0.4846 - loss: 1.3178 - val_accuracy: 0.7500 - val_loss: 1.1428\n",
      "Epoch 27/50\n",
      "\u001b[1m7/7\u001b[0m \u001b[32m━━━━━━━━━━━━━━━━━━━━\u001b[0m\u001b[37m\u001b[0m \u001b[1m0s\u001b[0m 6ms/step - accuracy: 0.5093 - loss: 1.3252 - val_accuracy: 0.7500 - val_loss: 1.1188\n",
      "Epoch 28/50\n",
      "\u001b[1m7/7\u001b[0m \u001b[32m━━━━━━━━━━━━━━━━━━━━\u001b[0m\u001b[37m\u001b[0m \u001b[1m0s\u001b[0m 5ms/step - accuracy: 0.5223 - loss: 1.3006 - val_accuracy: 0.7500 - val_loss: 1.0942\n",
      "Epoch 29/50\n",
      "\u001b[1m7/7\u001b[0m \u001b[32m━━━━━━━━━━━━━━━━━━━━\u001b[0m\u001b[37m\u001b[0m \u001b[1m0s\u001b[0m 5ms/step - accuracy: 0.5430 - loss: 1.2512 - val_accuracy: 0.7500 - val_loss: 1.0660\n",
      "Epoch 30/50\n",
      "\u001b[1m7/7\u001b[0m \u001b[32m━━━━━━━━━━━━━━━━━━━━\u001b[0m\u001b[37m\u001b[0m \u001b[1m0s\u001b[0m 6ms/step - accuracy: 0.5766 - loss: 1.1953 - val_accuracy: 0.7500 - val_loss: 1.0414\n",
      "Epoch 31/50\n",
      "\u001b[1m7/7\u001b[0m \u001b[32m━━━━━━━━━━━━━━━━━━━━\u001b[0m\u001b[37m\u001b[0m \u001b[1m0s\u001b[0m 5ms/step - accuracy: 0.5097 - loss: 1.2519 - val_accuracy: 0.7500 - val_loss: 1.0160\n",
      "Epoch 32/50\n",
      "\u001b[1m7/7\u001b[0m \u001b[32m━━━━━━━━━━━━━━━━━━━━\u001b[0m\u001b[37m\u001b[0m \u001b[1m0s\u001b[0m 5ms/step - accuracy: 0.4969 - loss: 1.2654 - val_accuracy: 0.7500 - val_loss: 0.9930\n",
      "Epoch 33/50\n",
      "\u001b[1m7/7\u001b[0m \u001b[32m━━━━━━━━━━━━━━━━━━━━\u001b[0m\u001b[37m\u001b[0m \u001b[1m0s\u001b[0m 6ms/step - accuracy: 0.5440 - loss: 1.2054 - val_accuracy: 0.7500 - val_loss: 0.9718\n",
      "Epoch 34/50\n",
      "\u001b[1m7/7\u001b[0m \u001b[32m━━━━━━━━━━━━━━━━━━━━\u001b[0m\u001b[37m\u001b[0m \u001b[1m0s\u001b[0m 5ms/step - accuracy: 0.5357 - loss: 1.1924 - val_accuracy: 0.7500 - val_loss: 0.9524\n",
      "Epoch 35/50\n",
      "\u001b[1m7/7\u001b[0m \u001b[32m━━━━━━━━━━━━━━━━━━━━\u001b[0m\u001b[37m\u001b[0m \u001b[1m0s\u001b[0m 5ms/step - accuracy: 0.4947 - loss: 1.1802 - val_accuracy: 0.7083 - val_loss: 0.9334\n",
      "Epoch 36/50\n",
      "\u001b[1m7/7\u001b[0m \u001b[32m━━━━━━━━━━━━━━━━━━━━\u001b[0m\u001b[37m\u001b[0m \u001b[1m0s\u001b[0m 5ms/step - accuracy: 0.5416 - loss: 1.2025 - val_accuracy: 0.7083 - val_loss: 0.9171\n",
      "Epoch 37/50\n",
      "\u001b[1m7/7\u001b[0m \u001b[32m━━━━━━━━━━━━━━━━━━━━\u001b[0m\u001b[37m\u001b[0m \u001b[1m0s\u001b[0m 5ms/step - accuracy: 0.5141 - loss: 1.1888 - val_accuracy: 0.7083 - val_loss: 0.9019\n",
      "Epoch 38/50\n",
      "\u001b[1m7/7\u001b[0m \u001b[32m━━━━━━━━━━━━━━━━━━━━\u001b[0m\u001b[37m\u001b[0m \u001b[1m0s\u001b[0m 5ms/step - accuracy: 0.5815 - loss: 1.1092 - val_accuracy: 0.7083 - val_loss: 0.8859\n",
      "Epoch 39/50\n",
      "\u001b[1m7/7\u001b[0m \u001b[32m━━━━━━━━━━━━━━━━━━━━\u001b[0m\u001b[37m\u001b[0m \u001b[1m0s\u001b[0m 5ms/step - accuracy: 0.5093 - loss: 1.2190 - val_accuracy: 0.7083 - val_loss: 0.8732\n",
      "Epoch 40/50\n",
      "\u001b[1m7/7\u001b[0m \u001b[32m━━━━━━━━━━━━━━━━━━━━\u001b[0m\u001b[37m\u001b[0m \u001b[1m0s\u001b[0m 5ms/step - accuracy: 0.5258 - loss: 1.1818 - val_accuracy: 0.7083 - val_loss: 0.8623\n",
      "Epoch 41/50\n",
      "\u001b[1m7/7\u001b[0m \u001b[32m━━━━━━━━━━━━━━━━━━━━\u001b[0m\u001b[37m\u001b[0m \u001b[1m0s\u001b[0m 5ms/step - accuracy: 0.5805 - loss: 1.1200 - val_accuracy: 0.7083 - val_loss: 0.8503\n",
      "Epoch 42/50\n",
      "\u001b[1m7/7\u001b[0m \u001b[32m━━━━━━━━━━━━━━━━━━━━\u001b[0m\u001b[37m\u001b[0m \u001b[1m0s\u001b[0m 6ms/step - accuracy: 0.6397 - loss: 1.0557 - val_accuracy: 0.7083 - val_loss: 0.8369\n",
      "Epoch 43/50\n",
      "\u001b[1m7/7\u001b[0m \u001b[32m━━━━━━━━━━━━━━━━━━━━\u001b[0m\u001b[37m\u001b[0m \u001b[1m0s\u001b[0m 12ms/step - accuracy: 0.5758 - loss: 1.1418 - val_accuracy: 0.7083 - val_loss: 0.8256\n",
      "Epoch 44/50\n",
      "\u001b[1m7/7\u001b[0m \u001b[32m━━━━━━━━━━━━━━━━━━━━\u001b[0m\u001b[37m\u001b[0m \u001b[1m0s\u001b[0m 6ms/step - accuracy: 0.5457 - loss: 1.0970 - val_accuracy: 0.7083 - val_loss: 0.8177\n",
      "Epoch 45/50\n",
      "\u001b[1m7/7\u001b[0m \u001b[32m━━━━━━━━━━━━━━━━━━━━\u001b[0m\u001b[37m\u001b[0m \u001b[1m0s\u001b[0m 5ms/step - accuracy: 0.5325 - loss: 1.1445 - val_accuracy: 0.7083 - val_loss: 0.8122\n",
      "Epoch 46/50\n",
      "\u001b[1m7/7\u001b[0m \u001b[32m━━━━━━━━━━━━━━━━━━━━\u001b[0m\u001b[37m\u001b[0m \u001b[1m0s\u001b[0m 5ms/step - accuracy: 0.5631 - loss: 1.0956 - val_accuracy: 0.7083 - val_loss: 0.8048\n",
      "Epoch 47/50\n",
      "\u001b[1m7/7\u001b[0m \u001b[32m━━━━━━━━━━━━━━━━━━━━\u001b[0m\u001b[37m\u001b[0m \u001b[1m0s\u001b[0m 5ms/step - accuracy: 0.5496 - loss: 1.1146 - val_accuracy: 0.7083 - val_loss: 0.7980\n",
      "Epoch 48/50\n",
      "\u001b[1m7/7\u001b[0m \u001b[32m━━━━━━━━━━━━━━━━━━━━\u001b[0m\u001b[37m\u001b[0m \u001b[1m0s\u001b[0m 5ms/step - accuracy: 0.5014 - loss: 1.1293 - val_accuracy: 0.7083 - val_loss: 0.7913\n",
      "Epoch 49/50\n",
      "\u001b[1m7/7\u001b[0m \u001b[32m━━━━━━━━━━━━━━━━━━━━\u001b[0m\u001b[37m\u001b[0m \u001b[1m0s\u001b[0m 5ms/step - accuracy: 0.5284 - loss: 1.0857 - val_accuracy: 0.7083 - val_loss: 0.7848\n",
      "Epoch 50/50\n",
      "\u001b[1m7/7\u001b[0m \u001b[32m━━━━━━━━━━━━━━━━━━━━\u001b[0m\u001b[37m\u001b[0m \u001b[1m0s\u001b[0m 6ms/step - accuracy: 0.5672 - loss: 1.0807 - val_accuracy: 0.7083 - val_loss: 0.7802\n"
     ]
    },
    {
     "data": {
      "text/plain": [
       "<keras.src.callbacks.history.History at 0x12d378370>"
      ]
     },
     "execution_count": 391,
     "metadata": {},
     "output_type": "execute_result"
    }
   ],
   "source": [
    "model.compile(loss = 'categorical_crossentropy', optimizer='adam', metrics=['accuracy'])\n",
    "model.fit(X_train,\n",
    "          y_train,\n",
    "          epochs = 50,\n",
    "          validation_split = 0.1,\n",
    "          verbose = 1)\n"
   ]
  },
  {
   "cell_type": "code",
   "execution_count": 392,
   "metadata": {},
   "outputs": [
    {
     "name": "stdout",
     "output_type": "stream",
     "text": [
      "\u001b[1m2/2\u001b[0m \u001b[32m━━━━━━━━━━━━━━━━━━━━\u001b[0m\u001b[37m\u001b[0m \u001b[1m0s\u001b[0m 11ms/step - accuracy: 0.6188 - loss: 0.8987\n"
     ]
    },
    {
     "data": {
      "text/plain": [
       "[0.9325436949729919, 0.6000000238418579]"
      ]
     },
     "execution_count": 392,
     "metadata": {},
     "output_type": "execute_result"
    }
   ],
   "source": [
    "model.evaluate(X_test, y_test)"
   ]
  }
 ],
 "metadata": {
  "kernelspec": {
   "display_name": "Python 3",
   "language": "python",
   "name": "python3"
  },
  "language_info": {
   "codemirror_mode": {
    "name": "ipython",
    "version": 3
   },
   "file_extension": ".py",
   "mimetype": "text/x-python",
   "name": "python",
   "nbconvert_exporter": "python",
   "pygments_lexer": "ipython3",
   "version": "3.9.6"
  }
 },
 "nbformat": 4,
 "nbformat_minor": 2
}
